{
  "nbformat": 4,
  "nbformat_minor": 0,
  "metadata": {
    "colab": {
      "name": "SecondIdeaAAA.ipynb",
      "provenance": [],
      "collapsed_sections": [
        "DwP1As9w9V29",
        "UFdudHrNCq6I",
        "HKzhCTLJEsr8"
      ],
      "authorship_tag": "ABX9TyNr5xkaPKMOKp84Oy+a/Si1",
      "include_colab_link": true
    },
    "kernelspec": {
      "name": "python3",
      "display_name": "Python 3"
    },
    "language_info": {
      "name": "python"
    }
  },
  "cells": [
    {
      "cell_type": "markdown",
      "metadata": {
        "id": "view-in-github",
        "colab_type": "text"
      },
      "source": [
        "<a href=\"https://colab.research.google.com/github/aaguil8a/project-2-ML/blob/main/SecondIdeaAAA.ipynb\" target=\"_parent\"><img src=\"https://colab.research.google.com/assets/colab-badge.svg\" alt=\"Open In Colab\"/></a>"
      ]
    },
    {
      "cell_type": "code",
      "metadata": {
        "id": "zXWY94b-dzMW"
      },
      "source": [
        "import pandas as pd\n",
        "import seaborn as sns\n",
        "\n",
        "%matplotlib inline\n",
        "import matplotlib.pyplot as plt\n",
        "import pandas as pd\n",
        "import pydotplus\n",
        "from scipy.cluster import hierarchy\n",
        "import seaborn as sns\n",
        "from sklearn import decomposition, preprocessing, cluster, tree\n",
        "from yellowbrick.cluster.silhouette import SilhouetteVisualizer\n",
        "\n",
        "\n",
        "import io\n",
        "import urllib.request as req\n",
        "import zipfile"
      ],
      "execution_count": 7,
      "outputs": []
    },
    {
      "cell_type": "markdown",
      "metadata": {
        "id": "yyW10QGc4RMz"
      },
      "source": [
        "# Part 1\n",
        "\n",
        "## Dataset: \n",
        "\n",
        "**src:** https://www.kaggle.com/janiobachmann/math-students\n",
        "\n",
        "**Description:** This is a dataset from the UCI datasets repository. This dataset contains the final scores of students at the end of a math programs with several features that might or might not impact the future outcome of these students.\n",
        "\n",
        "**Target:** G3 (final grade numeric: from 0 to 20)\n",
        "\n",
        "**Type:** Regression\n"
      ]
    },
    {
      "cell_type": "markdown",
      "metadata": {
        "id": "mYba5Jdq6rkZ"
      },
      "source": [
        "# Features:\n",
        "\n",
        "\n",
        "Attributes for both student-mat.csv (Math course) and student-por.csv (Portuguese language course) datasets:\n",
        "\n",
        "1 school - student's school (binary: 'GP' - Gabriel Pereira or 'MS' - Mousinho da Silveira)\n",
        "\n",
        "2 sex - student's sex (binary: 'F' - female or 'M' - male)\n",
        "\n",
        "3 age - student's age (numeric: from 15 to 22)\n",
        "\n",
        "4 address - student's home address type (binary: 'U' - urban or 'R' - rural)\n",
        "\n",
        "5 famsize - family size (binary: 'LE3' - less or equal to 3 or 'GT3' - greater than 3)\n",
        "\n",
        "6 Pstatus - parent's cohabitation status (binary: 'T' - living together or 'A' - apart)\n",
        "\n",
        "7 Medu - mother's education (numeric: 0 - none, 1 - primary education (4th grade), 2 â€“ 5th to 9th grade, 3 â€“ secondary education or 4 â€“ higher education)\n",
        "\n",
        "8 Fedu - father's education (numeric: 0 - none, 1 - primary education (4th grade), 2 â€“ 5th to 9th grade, 3 â€“ secondary education or 4 â€“ higher education)\n",
        "\n",
        "9 Mjob - mother's job (nominal: 'teacher', 'health' care related, civil 'services' (e.g. administrative or police), 'athome' or 'other')\n",
        "10 Fjob - father's job (nominal: 'teacher', 'health' care related, civil 'services' (e.g. administrative or police), 'athome' or 'other')\n",
        "\n",
        "11 reason - reason to choose this school (nominal: close to 'home', school 'reputation', 'course' preference or 'other')\n",
        "\n",
        "12 guardian - student's guardian (nominal: 'mother', 'father' or 'other')\n",
        "\n",
        "13 traveltime - home to school travel time (numeric: 1 - <15 min., 2 - 15 to 30 min., 3 - 30 min. to 1 hour, or 4 - >1 hour)\n",
        "\n",
        "14 studytime - weekly study time (numeric: 1 - <2 hours, 2 - 2 to 5 hours, 3 - 5 to 10 hours, or 4 - >10 hours)\n",
        "\n",
        "15 failures - number of past class failures (numeric: n if 1<=n<3, else 4)\n",
        "\n",
        "16 schoolsup - extra educational support (binary: yes or no)\n",
        "\n",
        "17 famsup - family educational support (binary: yes or no)\n",
        "\n",
        "18 paid - extra paid classes within the course subject (Math or Portuguese) (binary: yes or no)\n",
        "\n",
        "19 activities - extra-curricular activities (binary: yes or no)\n",
        "\n",
        "20 nursery - attended nursery school (binary: yes or no)\n",
        "\n",
        "21 higher - wants to take higher education (binary: yes or no)\n",
        "\n",
        "22 internet - Internet access at home (binary: yes or no)\n",
        "\n",
        "23 romantic - with a romantic relationship (binary: yes or no)\n",
        "\n",
        "24 famrel - quality of family relationships (numeric: from 1 - very bad to 5 - excellent)\n",
        "\n",
        "25 freetime - free time after school (numeric: from 1 - very low to 5 - very high)\n",
        "\n",
        "26 goout - going out with friends (numeric: from 1 - very low to 5 - very high)\n",
        "\n",
        "27 Dalc - workday alcohol consumption (numeric: from 1 - very low to 5 - very high)\n",
        "\n",
        "28 Walc - weekend alcohol consumption (numeric: from 1 - very low to 5 - very high)\n",
        "\n",
        "29 health - current health status (numeric: from 1 - very bad to 5 - very good)\n",
        "\n",
        "30 absences - number of school absences (numeric: from 0 to 93)\n",
        "\n",
        "these grades are related with the course subject, Math:\n",
        "31 G1 - first period grade (numeric: from 0 to 20)\n",
        "\n",
        "31 G2 - second period grade (numeric: from 0 to 20)\n",
        "\n",
        "32 G3 - final grade (numeric: from 0 to 20, output target)"
      ]
    },
    {
      "cell_type": "code",
      "metadata": {
        "id": "8QvABh3C5upK"
      },
      "source": [
        "filename = 'https://raw.githubusercontent.com/aaguil8a/DS/main/student-mat.csv'\n",
        "\n",
        "df = pd.read_csv(filename)"
      ],
      "execution_count": 4,
      "outputs": []
    },
    {
      "cell_type": "code",
      "metadata": {
        "colab": {
          "base_uri": "https://localhost:8080/"
        },
        "id": "qF8z4clWRDM5",
        "outputId": "4a03ca50-4d14-4a2f-8b01-2554f8bc9311"
      },
      "source": [
        "df.shape"
      ],
      "execution_count": 5,
      "outputs": [
        {
          "output_type": "execute_result",
          "data": {
            "text/plain": [
              "(395, 33)"
            ]
          },
          "metadata": {},
          "execution_count": 5
        }
      ]
    },
    {
      "cell_type": "markdown",
      "metadata": {
        "id": "IBdWvDwq0eXS"
      },
      "source": [
        "# Cleaning & Exploring"
      ]
    },
    {
      "cell_type": "code",
      "metadata": {
        "id": "PDbUiSHRLSTz",
        "colab": {
          "base_uri": "https://localhost:8080/",
          "height": 222
        },
        "outputId": "37304949-271f-445d-c1ba-4736234207fd"
      },
      "source": [
        "df.head(5)"
      ],
      "execution_count": 9,
      "outputs": [
        {
          "output_type": "execute_result",
          "data": {
            "text/html": [
              "<div>\n",
              "<style scoped>\n",
              "    .dataframe tbody tr th:only-of-type {\n",
              "        vertical-align: middle;\n",
              "    }\n",
              "\n",
              "    .dataframe tbody tr th {\n",
              "        vertical-align: top;\n",
              "    }\n",
              "\n",
              "    .dataframe thead th {\n",
              "        text-align: right;\n",
              "    }\n",
              "</style>\n",
              "<table border=\"1\" class=\"dataframe\">\n",
              "  <thead>\n",
              "    <tr style=\"text-align: right;\">\n",
              "      <th></th>\n",
              "      <th>school</th>\n",
              "      <th>sex</th>\n",
              "      <th>age</th>\n",
              "      <th>address</th>\n",
              "      <th>famsize</th>\n",
              "      <th>Pstatus</th>\n",
              "      <th>Medu</th>\n",
              "      <th>Fedu</th>\n",
              "      <th>Mjob</th>\n",
              "      <th>Fjob</th>\n",
              "      <th>reason</th>\n",
              "      <th>guardian</th>\n",
              "      <th>traveltime</th>\n",
              "      <th>studytime</th>\n",
              "      <th>failures</th>\n",
              "      <th>schoolsup</th>\n",
              "      <th>famsup</th>\n",
              "      <th>paid</th>\n",
              "      <th>activities</th>\n",
              "      <th>nursery</th>\n",
              "      <th>higher</th>\n",
              "      <th>internet</th>\n",
              "      <th>romantic</th>\n",
              "      <th>famrel</th>\n",
              "      <th>freetime</th>\n",
              "      <th>goout</th>\n",
              "      <th>Dalc</th>\n",
              "      <th>Walc</th>\n",
              "      <th>health</th>\n",
              "      <th>absences</th>\n",
              "      <th>G1</th>\n",
              "      <th>G2</th>\n",
              "      <th>G3</th>\n",
              "    </tr>\n",
              "  </thead>\n",
              "  <tbody>\n",
              "    <tr>\n",
              "      <th>0</th>\n",
              "      <td>GP</td>\n",
              "      <td>F</td>\n",
              "      <td>18</td>\n",
              "      <td>U</td>\n",
              "      <td>GT3</td>\n",
              "      <td>A</td>\n",
              "      <td>4</td>\n",
              "      <td>4</td>\n",
              "      <td>at_home</td>\n",
              "      <td>teacher</td>\n",
              "      <td>course</td>\n",
              "      <td>mother</td>\n",
              "      <td>2</td>\n",
              "      <td>2</td>\n",
              "      <td>0</td>\n",
              "      <td>yes</td>\n",
              "      <td>no</td>\n",
              "      <td>no</td>\n",
              "      <td>no</td>\n",
              "      <td>yes</td>\n",
              "      <td>yes</td>\n",
              "      <td>no</td>\n",
              "      <td>no</td>\n",
              "      <td>4</td>\n",
              "      <td>3</td>\n",
              "      <td>4</td>\n",
              "      <td>1</td>\n",
              "      <td>1</td>\n",
              "      <td>3</td>\n",
              "      <td>6</td>\n",
              "      <td>5</td>\n",
              "      <td>6</td>\n",
              "      <td>6</td>\n",
              "    </tr>\n",
              "    <tr>\n",
              "      <th>1</th>\n",
              "      <td>GP</td>\n",
              "      <td>F</td>\n",
              "      <td>17</td>\n",
              "      <td>U</td>\n",
              "      <td>GT3</td>\n",
              "      <td>T</td>\n",
              "      <td>1</td>\n",
              "      <td>1</td>\n",
              "      <td>at_home</td>\n",
              "      <td>other</td>\n",
              "      <td>course</td>\n",
              "      <td>father</td>\n",
              "      <td>1</td>\n",
              "      <td>2</td>\n",
              "      <td>0</td>\n",
              "      <td>no</td>\n",
              "      <td>yes</td>\n",
              "      <td>no</td>\n",
              "      <td>no</td>\n",
              "      <td>no</td>\n",
              "      <td>yes</td>\n",
              "      <td>yes</td>\n",
              "      <td>no</td>\n",
              "      <td>5</td>\n",
              "      <td>3</td>\n",
              "      <td>3</td>\n",
              "      <td>1</td>\n",
              "      <td>1</td>\n",
              "      <td>3</td>\n",
              "      <td>4</td>\n",
              "      <td>5</td>\n",
              "      <td>5</td>\n",
              "      <td>6</td>\n",
              "    </tr>\n",
              "    <tr>\n",
              "      <th>2</th>\n",
              "      <td>GP</td>\n",
              "      <td>F</td>\n",
              "      <td>15</td>\n",
              "      <td>U</td>\n",
              "      <td>LE3</td>\n",
              "      <td>T</td>\n",
              "      <td>1</td>\n",
              "      <td>1</td>\n",
              "      <td>at_home</td>\n",
              "      <td>other</td>\n",
              "      <td>other</td>\n",
              "      <td>mother</td>\n",
              "      <td>1</td>\n",
              "      <td>2</td>\n",
              "      <td>3</td>\n",
              "      <td>yes</td>\n",
              "      <td>no</td>\n",
              "      <td>yes</td>\n",
              "      <td>no</td>\n",
              "      <td>yes</td>\n",
              "      <td>yes</td>\n",
              "      <td>yes</td>\n",
              "      <td>no</td>\n",
              "      <td>4</td>\n",
              "      <td>3</td>\n",
              "      <td>2</td>\n",
              "      <td>2</td>\n",
              "      <td>3</td>\n",
              "      <td>3</td>\n",
              "      <td>10</td>\n",
              "      <td>7</td>\n",
              "      <td>8</td>\n",
              "      <td>10</td>\n",
              "    </tr>\n",
              "    <tr>\n",
              "      <th>3</th>\n",
              "      <td>GP</td>\n",
              "      <td>F</td>\n",
              "      <td>15</td>\n",
              "      <td>U</td>\n",
              "      <td>GT3</td>\n",
              "      <td>T</td>\n",
              "      <td>4</td>\n",
              "      <td>2</td>\n",
              "      <td>health</td>\n",
              "      <td>services</td>\n",
              "      <td>home</td>\n",
              "      <td>mother</td>\n",
              "      <td>1</td>\n",
              "      <td>3</td>\n",
              "      <td>0</td>\n",
              "      <td>no</td>\n",
              "      <td>yes</td>\n",
              "      <td>yes</td>\n",
              "      <td>yes</td>\n",
              "      <td>yes</td>\n",
              "      <td>yes</td>\n",
              "      <td>yes</td>\n",
              "      <td>yes</td>\n",
              "      <td>3</td>\n",
              "      <td>2</td>\n",
              "      <td>2</td>\n",
              "      <td>1</td>\n",
              "      <td>1</td>\n",
              "      <td>5</td>\n",
              "      <td>2</td>\n",
              "      <td>15</td>\n",
              "      <td>14</td>\n",
              "      <td>15</td>\n",
              "    </tr>\n",
              "    <tr>\n",
              "      <th>4</th>\n",
              "      <td>GP</td>\n",
              "      <td>F</td>\n",
              "      <td>16</td>\n",
              "      <td>U</td>\n",
              "      <td>GT3</td>\n",
              "      <td>T</td>\n",
              "      <td>3</td>\n",
              "      <td>3</td>\n",
              "      <td>other</td>\n",
              "      <td>other</td>\n",
              "      <td>home</td>\n",
              "      <td>father</td>\n",
              "      <td>1</td>\n",
              "      <td>2</td>\n",
              "      <td>0</td>\n",
              "      <td>no</td>\n",
              "      <td>yes</td>\n",
              "      <td>yes</td>\n",
              "      <td>no</td>\n",
              "      <td>yes</td>\n",
              "      <td>yes</td>\n",
              "      <td>no</td>\n",
              "      <td>no</td>\n",
              "      <td>4</td>\n",
              "      <td>3</td>\n",
              "      <td>2</td>\n",
              "      <td>1</td>\n",
              "      <td>2</td>\n",
              "      <td>5</td>\n",
              "      <td>4</td>\n",
              "      <td>6</td>\n",
              "      <td>10</td>\n",
              "      <td>10</td>\n",
              "    </tr>\n",
              "  </tbody>\n",
              "</table>\n",
              "</div>"
            ],
            "text/plain": [
              "  school sex  age address famsize Pstatus  ...  Walc  health absences  G1  G2  G3\n",
              "0     GP   F   18       U     GT3       A  ...     1       3        6   5   6   6\n",
              "1     GP   F   17       U     GT3       T  ...     1       3        4   5   5   6\n",
              "2     GP   F   15       U     LE3       T  ...     3       3       10   7   8  10\n",
              "3     GP   F   15       U     GT3       T  ...     1       5        2  15  14  15\n",
              "4     GP   F   16       U     GT3       T  ...     2       5        4   6  10  10\n",
              "\n",
              "[5 rows x 33 columns]"
            ]
          },
          "metadata": {},
          "execution_count": 9
        }
      ]
    },
    {
      "cell_type": "code",
      "metadata": {
        "id": "YCa2aWSmMEjy",
        "colab": {
          "base_uri": "https://localhost:8080/"
        },
        "outputId": "b506ad36-1351-410f-f3c5-503f6717e4e9"
      },
      "source": [
        "df.duplicated().any() # No duplicates"
      ],
      "execution_count": 13,
      "outputs": [
        {
          "output_type": "execute_result",
          "data": {
            "text/plain": [
              "False"
            ]
          },
          "metadata": {},
          "execution_count": 13
        }
      ]
    },
    {
      "cell_type": "code",
      "metadata": {
        "colab": {
          "base_uri": "https://localhost:8080/"
        },
        "id": "bGqtaKvD7oRc",
        "outputId": "1ffecf11-3df5-4b04-9944-dbd10769822d"
      },
      "source": [
        "((df\n",
        "  .isna()\n",
        "  .mean()\n",
        "  * 100)\n",
        "  .pipe(lambda ser : ser[ser > 0])\n",
        ")\n",
        "\n",
        "# There are no missing values"
      ],
      "execution_count": 12,
      "outputs": [
        {
          "output_type": "execute_result",
          "data": {
            "text/plain": [
              "Series([], dtype: float64)"
            ]
          },
          "metadata": {},
          "execution_count": 12
        }
      ]
    },
    {
      "cell_type": "code",
      "metadata": {
        "colab": {
          "base_uri": "https://localhost:8080/"
        },
        "id": "vTEq3k_S7bWH",
        "outputId": "00f47397-cd5f-4a2e-fecf-5013fa1b91fe"
      },
      "source": [
        "df.info()"
      ],
      "execution_count": 11,
      "outputs": [
        {
          "output_type": "stream",
          "name": "stdout",
          "text": [
            "<class 'pandas.core.frame.DataFrame'>\n",
            "RangeIndex: 395 entries, 0 to 394\n",
            "Data columns (total 33 columns):\n",
            " #   Column      Non-Null Count  Dtype \n",
            "---  ------      --------------  ----- \n",
            " 0   school      395 non-null    object\n",
            " 1   sex         395 non-null    object\n",
            " 2   age         395 non-null    int64 \n",
            " 3   address     395 non-null    object\n",
            " 4   famsize     395 non-null    object\n",
            " 5   Pstatus     395 non-null    object\n",
            " 6   Medu        395 non-null    int64 \n",
            " 7   Fedu        395 non-null    int64 \n",
            " 8   Mjob        395 non-null    object\n",
            " 9   Fjob        395 non-null    object\n",
            " 10  reason      395 non-null    object\n",
            " 11  guardian    395 non-null    object\n",
            " 12  traveltime  395 non-null    int64 \n",
            " 13  studytime   395 non-null    int64 \n",
            " 14  failures    395 non-null    int64 \n",
            " 15  schoolsup   395 non-null    object\n",
            " 16  famsup      395 non-null    object\n",
            " 17  paid        395 non-null    object\n",
            " 18  activities  395 non-null    object\n",
            " 19  nursery     395 non-null    object\n",
            " 20  higher      395 non-null    object\n",
            " 21  internet    395 non-null    object\n",
            " 22  romantic    395 non-null    object\n",
            " 23  famrel      395 non-null    int64 \n",
            " 24  freetime    395 non-null    int64 \n",
            " 25  goout       395 non-null    int64 \n",
            " 26  Dalc        395 non-null    int64 \n",
            " 27  Walc        395 non-null    int64 \n",
            " 28  health      395 non-null    int64 \n",
            " 29  absences    395 non-null    int64 \n",
            " 30  G1          395 non-null    int64 \n",
            " 31  G2          395 non-null    int64 \n",
            " 32  G3          395 non-null    int64 \n",
            "dtypes: int64(16), object(17)\n",
            "memory usage: 102.0+ KB\n"
          ]
        }
      ]
    },
    {
      "cell_type": "code",
      "metadata": {
        "colab": {
          "base_uri": "https://localhost:8080/"
        },
        "id": "3jvZ9xmd8Bm7",
        "outputId": "4f0959f8-db39-41b8-bb61-35d537ca9179"
      },
      "source": [
        "for c in df.columns:\n",
        "  print(f\"Column: {c}\\n\")\n",
        "  print(df[c].value_counts())\n",
        "  print(\"---\\n\")"
      ],
      "execution_count": 15,
      "outputs": [
        {
          "output_type": "stream",
          "name": "stdout",
          "text": [
            "Column: school\n",
            "\n",
            "GP    349\n",
            "MS     46\n",
            "Name: school, dtype: int64\n",
            "---\n",
            "\n",
            "Column: sex\n",
            "\n",
            "F    208\n",
            "M    187\n",
            "Name: sex, dtype: int64\n",
            "---\n",
            "\n",
            "Column: age\n",
            "\n",
            "16    104\n",
            "17     98\n",
            "18     82\n",
            "15     82\n",
            "19     24\n",
            "20      3\n",
            "22      1\n",
            "21      1\n",
            "Name: age, dtype: int64\n",
            "---\n",
            "\n",
            "Column: address\n",
            "\n",
            "U    307\n",
            "R     88\n",
            "Name: address, dtype: int64\n",
            "---\n",
            "\n",
            "Column: famsize\n",
            "\n",
            "GT3    281\n",
            "LE3    114\n",
            "Name: famsize, dtype: int64\n",
            "---\n",
            "\n",
            "Column: Pstatus\n",
            "\n",
            "T    354\n",
            "A     41\n",
            "Name: Pstatus, dtype: int64\n",
            "---\n",
            "\n",
            "Column: Medu\n",
            "\n",
            "4    131\n",
            "2    103\n",
            "3     99\n",
            "1     59\n",
            "0      3\n",
            "Name: Medu, dtype: int64\n",
            "---\n",
            "\n",
            "Column: Fedu\n",
            "\n",
            "2    115\n",
            "3    100\n",
            "4     96\n",
            "1     82\n",
            "0      2\n",
            "Name: Fedu, dtype: int64\n",
            "---\n",
            "\n",
            "Column: Mjob\n",
            "\n",
            "other       141\n",
            "services    103\n",
            "at_home      59\n",
            "teacher      58\n",
            "health       34\n",
            "Name: Mjob, dtype: int64\n",
            "---\n",
            "\n",
            "Column: Fjob\n",
            "\n",
            "other       217\n",
            "services    111\n",
            "teacher      29\n",
            "at_home      20\n",
            "health       18\n",
            "Name: Fjob, dtype: int64\n",
            "---\n",
            "\n",
            "Column: reason\n",
            "\n",
            "course        145\n",
            "home          109\n",
            "reputation    105\n",
            "other          36\n",
            "Name: reason, dtype: int64\n",
            "---\n",
            "\n",
            "Column: guardian\n",
            "\n",
            "mother    273\n",
            "father     90\n",
            "other      32\n",
            "Name: guardian, dtype: int64\n",
            "---\n",
            "\n",
            "Column: traveltime\n",
            "\n",
            "1    257\n",
            "2    107\n",
            "3     23\n",
            "4      8\n",
            "Name: traveltime, dtype: int64\n",
            "---\n",
            "\n",
            "Column: studytime\n",
            "\n",
            "2    198\n",
            "1    105\n",
            "3     65\n",
            "4     27\n",
            "Name: studytime, dtype: int64\n",
            "---\n",
            "\n",
            "Column: failures\n",
            "\n",
            "0    312\n",
            "1     50\n",
            "2     17\n",
            "3     16\n",
            "Name: failures, dtype: int64\n",
            "---\n",
            "\n",
            "Column: schoolsup\n",
            "\n",
            "no     344\n",
            "yes     51\n",
            "Name: schoolsup, dtype: int64\n",
            "---\n",
            "\n",
            "Column: famsup\n",
            "\n",
            "yes    242\n",
            "no     153\n",
            "Name: famsup, dtype: int64\n",
            "---\n",
            "\n",
            "Column: paid\n",
            "\n",
            "no     214\n",
            "yes    181\n",
            "Name: paid, dtype: int64\n",
            "---\n",
            "\n",
            "Column: activities\n",
            "\n",
            "yes    201\n",
            "no     194\n",
            "Name: activities, dtype: int64\n",
            "---\n",
            "\n",
            "Column: nursery\n",
            "\n",
            "yes    314\n",
            "no      81\n",
            "Name: nursery, dtype: int64\n",
            "---\n",
            "\n",
            "Column: higher\n",
            "\n",
            "yes    375\n",
            "no      20\n",
            "Name: higher, dtype: int64\n",
            "---\n",
            "\n",
            "Column: internet\n",
            "\n",
            "yes    329\n",
            "no      66\n",
            "Name: internet, dtype: int64\n",
            "---\n",
            "\n",
            "Column: romantic\n",
            "\n",
            "no     263\n",
            "yes    132\n",
            "Name: romantic, dtype: int64\n",
            "---\n",
            "\n",
            "Column: famrel\n",
            "\n",
            "4    195\n",
            "5    106\n",
            "3     68\n",
            "2     18\n",
            "1      8\n",
            "Name: famrel, dtype: int64\n",
            "---\n",
            "\n",
            "Column: freetime\n",
            "\n",
            "3    157\n",
            "4    115\n",
            "2     64\n",
            "5     40\n",
            "1     19\n",
            "Name: freetime, dtype: int64\n",
            "---\n",
            "\n",
            "Column: goout\n",
            "\n",
            "3    130\n",
            "2    103\n",
            "4     86\n",
            "5     53\n",
            "1     23\n",
            "Name: goout, dtype: int64\n",
            "---\n",
            "\n",
            "Column: Dalc\n",
            "\n",
            "1    276\n",
            "2     75\n",
            "3     26\n",
            "5      9\n",
            "4      9\n",
            "Name: Dalc, dtype: int64\n",
            "---\n",
            "\n",
            "Column: Walc\n",
            "\n",
            "1    151\n",
            "2     85\n",
            "3     80\n",
            "4     51\n",
            "5     28\n",
            "Name: Walc, dtype: int64\n",
            "---\n",
            "\n",
            "Column: health\n",
            "\n",
            "5    146\n",
            "3     91\n",
            "4     66\n",
            "1     47\n",
            "2     45\n",
            "Name: health, dtype: int64\n",
            "---\n",
            "\n",
            "Column: absences\n",
            "\n",
            "0     115\n",
            "2      65\n",
            "4      53\n",
            "6      31\n",
            "8      22\n",
            "10     17\n",
            "14     12\n",
            "12     12\n",
            "3       8\n",
            "7       7\n",
            "16      7\n",
            "18      5\n",
            "5       5\n",
            "20      4\n",
            "22      3\n",
            "13      3\n",
            "1       3\n",
            "9       3\n",
            "11      3\n",
            "15      3\n",
            "23      1\n",
            "24      1\n",
            "21      1\n",
            "25      1\n",
            "56      1\n",
            "26      1\n",
            "28      1\n",
            "30      1\n",
            "17      1\n",
            "38      1\n",
            "40      1\n",
            "54      1\n",
            "19      1\n",
            "75      1\n",
            "Name: absences, dtype: int64\n",
            "---\n",
            "\n",
            "Column: G1\n",
            "\n",
            "10    51\n",
            "8     41\n",
            "11    39\n",
            "7     37\n",
            "12    35\n",
            "13    33\n",
            "9     31\n",
            "14    30\n",
            "15    24\n",
            "6     24\n",
            "16    22\n",
            "17     8\n",
            "18     8\n",
            "5      7\n",
            "19     3\n",
            "4      1\n",
            "3      1\n",
            "Name: G1, dtype: int64\n",
            "---\n",
            "\n",
            "Column: G2\n",
            "\n",
            "9     50\n",
            "10    46\n",
            "12    41\n",
            "13    37\n",
            "11    35\n",
            "15    34\n",
            "8     32\n",
            "14    23\n",
            "7     21\n",
            "5     15\n",
            "6     14\n",
            "0     13\n",
            "16    13\n",
            "18    12\n",
            "17     5\n",
            "19     3\n",
            "4      1\n",
            "Name: G2, dtype: int64\n",
            "---\n",
            "\n",
            "Column: G3\n",
            "\n",
            "10    56\n",
            "11    47\n",
            "0     38\n",
            "15    33\n",
            "8     32\n",
            "13    31\n",
            "12    31\n",
            "9     28\n",
            "14    27\n",
            "16    16\n",
            "6     15\n",
            "18    12\n",
            "7      9\n",
            "5      7\n",
            "17     6\n",
            "19     5\n",
            "4      1\n",
            "20     1\n",
            "Name: G3, dtype: int64\n",
            "---\n",
            "\n"
          ]
        }
      ]
    },
    {
      "cell_type": "markdown",
      "metadata": {
        "id": "DwP1As9w9V29"
      },
      "source": [
        "### Overall the dataset looks clean--there are some outliers such as such as age and school, absences--let explore these outliers."
      ]
    },
    {
      "cell_type": "code",
      "metadata": {
        "colab": {
          "base_uri": "https://localhost:8080/",
          "height": 284
        },
        "id": "MJqJnkQi-PAx",
        "outputId": "a406f051-de13-4e2a-d32d-de237de32860"
      },
      "source": [
        "df.age.value_counts().plot(kind='bar') \n",
        "# We can see here there is right tail distribution: there is mostly teens that take part in this program. \n"
      ],
      "execution_count": 20,
      "outputs": [
        {
          "output_type": "execute_result",
          "data": {
            "text/plain": [
              "<matplotlib.axes._subplots.AxesSubplot at 0x7f1c39dabbd0>"
            ]
          },
          "metadata": {},
          "execution_count": 20
        },
        {
          "output_type": "display_data",
          "data": {
            "image/png": "[encoded data removed]",
            "text/plain": [
              "<Figure size 432x288 with 1 Axes>"
            ]
          },
          "metadata": {
            "needs_background": "light"
          }
        }
      ]
    },
    {
      "cell_type": "code",
      "metadata": {
        "colab": {
          "base_uri": "https://localhost:8080/",
          "height": 282
        },
        "id": "hkgP-YQK_ncp",
        "outputId": "39eb11c6-e777-4ce1-f375-1bbcdb1b966e"
      },
      "source": [
        "df.age.plot.box() # Here we see the outliers."
      ],
      "execution_count": 21,
      "outputs": [
        {
          "output_type": "execute_result",
          "data": {
            "text/plain": [
              "<matplotlib.axes._subplots.AxesSubplot at 0x7f1c3a574f90>"
            ]
          },
          "metadata": {},
          "execution_count": 21
        },
        {
          "output_type": "display_data",
          "data": {
            "image/png": "[encoded data removed]",
            "text/plain": [
              "<Figure size 432x288 with 1 Axes>"
            ]
          },
          "metadata": {
            "needs_background": "light"
          }
        }
      ]
    },
    {
      "cell_type": "code",
      "metadata": {
        "id": "D7WsR2b9NyMe",
        "colab": {
          "base_uri": "https://localhost:8080/",
          "height": 287
        },
        "outputId": "5b34916f-61be-4227-8d96-ba6da0c63f55"
      },
      "source": [
        "df.school.value_counts().plot(kind='bar') # For school we see that most GP school takes in the math program."
      ],
      "execution_count": 18,
      "outputs": [
        {
          "output_type": "execute_result",
          "data": {
            "text/plain": [
              "<matplotlib.axes._subplots.AxesSubplot at 0x7f1c3a49e810>"
            ]
          },
          "metadata": {},
          "execution_count": 18
        },
        {
          "output_type": "display_data",
          "data": {
            "image/png": "[encoded data removed]",
            "text/plain": [
              "<Figure size 432x288 with 1 Axes>"
            ]
          },
          "metadata": {
            "needs_background": "light"
          }
        }
      ]
    },
    {
      "cell_type": "code",
      "metadata": {
        "colab": {
          "base_uri": "https://localhost:8080/",
          "height": 282
        },
        "id": "0iyJF8m2AIpf",
        "outputId": "fe4cf98f-e308-4529-858b-237249132d87"
      },
      "source": [
        "df.absences.plot.box() # Most of the outliers are absences that are more than 20. "
      ],
      "execution_count": 23,
      "outputs": [
        {
          "output_type": "execute_result",
          "data": {
            "text/plain": [
              "<matplotlib.axes._subplots.AxesSubplot at 0x7f1c39cbfb10>"
            ]
          },
          "metadata": {},
          "execution_count": 23
        },
        {
          "output_type": "display_data",
          "data": {
            "image/png": "[encoded data removed]",
            "text/plain": [
              "<Figure size 432x288 with 1 Axes>"
            ]
          },
          "metadata": {
            "needs_background": "light"
          }
        }
      ]
    },
    {
      "cell_type": "code",
      "metadata": {
        "id": "pLGXQQaIAIr9"
      },
      "source": [
        ""
      ],
      "execution_count": null,
      "outputs": []
    },
    {
      "cell_type": "markdown",
      "metadata": {
        "id": "K-JLou7mCCkc"
      },
      "source": [
        "## Now that outliers have been identified--Ill move onto exploratory data viz."
      ]
    },
    {
      "cell_type": "markdown",
      "metadata": {
        "id": "UFdudHrNCq6I"
      },
      "source": [
        "### Categorical Data"
      ]
    },
    {
      "cell_type": "code",
      "metadata": {
        "colab": {
          "base_uri": "https://localhost:8080/",
          "height": 1000
        },
        "id": "w95zxcu1CppJ",
        "outputId": "f0b031ce-c552-44e6-af9b-c92bb6420e36"
      },
      "source": [
        "for c in categorical_cols:\n",
        "  plt.title(\" \".join(c.split(\"_\")),size=18,y=1.05)\n",
        "  sns.countplot(df[c],order=df[c].value_counts().index)\n",
        "  plt.show()"
      ],
      "execution_count": 39,
      "outputs": [
        {
          "output_type": "stream",
          "name": "stderr",
          "text": [
            "/usr/local/lib/python3.7/dist-packages/seaborn/_decorators.py:43: FutureWarning: Pass the following variable as a keyword arg: x. From version 0.12, the only valid positional argument will be `data`, and passing other arguments without an explicit keyword will result in an error or misinterpretation.\n",
            "  FutureWarning\n"
          ]
        },
        {
          "output_type": "display_data",
          "data": {
            "image/png": "[encoded data removed]",
            "text/plain": [
              "<Figure size 432x288 with 1 Axes>"
            ]
          },
          "metadata": {
            "needs_background": "light"
          }
        },
        {
          "output_type": "stream",
          "name": "stderr",
          "text": [
            "/usr/local/lib/python3.7/dist-packages/seaborn/_decorators.py:43: FutureWarning: Pass the following variable as a keyword arg: x. From version 0.12, the only valid positional argument will be `data`, and passing other arguments without an explicit keyword will result in an error or misinterpretation.\n",
            "  FutureWarning\n"
          ]
        },
        {
          "output_type": "display_data",
          "data": {
            "image/png": "[encoded data removed]",
            "text/plain": [
              "<Figure size 432x288 with 1 Axes>"
            ]
          },
          "metadata": {
            "needs_background": "light"
          }
        },
        {
          "output_type": "stream",
          "name": "stderr",
          "text": [
            "/usr/local/lib/python3.7/dist-packages/seaborn/_decorators.py:43: FutureWarning: Pass the following variable as a keyword arg: x. From version 0.12, the only valid positional argument will be `data`, and passing other arguments without an explicit keyword will result in an error or misinterpretation.\n",
            "  FutureWarning\n"
          ]
        },
        {
          "output_type": "display_data",
          "data": {
            "image/png": "[encoded data removed]",
            "text/plain": [
              "<Figure size 432x288 with 1 Axes>"
            ]
          },
          "metadata": {
            "needs_background": "light"
          }
        },
        {
          "output_type": "stream",
          "name": "stderr",
          "text": [
            "/usr/local/lib/python3.7/dist-packages/seaborn/_decorators.py:43: FutureWarning: Pass the following variable as a keyword arg: x. From version 0.12, the only valid positional argument will be `data`, and passing other arguments without an explicit keyword will result in an error or misinterpretation.\n",
            "  FutureWarning\n"
          ]
        },
        {
          "output_type": "display_data",
          "data": {
            "image/png": "[encoded data removed]",
            "text/plain": [
              "<Figure size 432x288 with 1 Axes>"
            ]
          },
          "metadata": {
            "needs_background": "light"
          }
        },
        {
          "output_type": "stream",
          "name": "stderr",
          "text": [
            "/usr/local/lib/python3.7/dist-packages/seaborn/_decorators.py:43: FutureWarning: Pass the following variable as a keyword arg: x. From version 0.12, the only valid positional argument will be `data`, and passing other arguments without an explicit keyword will result in an error or misinterpretation.\n",
            "  FutureWarning\n"
          ]
        },
        {
          "output_type": "display_data",
          "data": {
            "image/png": "[encoded data removed]",
            "text/plain": [
              "<Figure size 432x288 with 1 Axes>"
            ]
          },
          "metadata": {
            "needs_background": "light"
          }
        },
        {
          "output_type": "stream",
          "name": "stderr",
          "text": [
            "/usr/local/lib/python3.7/dist-packages/seaborn/_decorators.py:43: FutureWarning: Pass the following variable as a keyword arg: x. From version 0.12, the only valid positional argument will be `data`, and passing other arguments without an explicit keyword will result in an error or misinterpretation.\n",
            "  FutureWarning\n"
          ]
        },
        {
          "output_type": "display_data",
          "data": {
            "image/png": "[encoded data removed]",
            "text/plain": [
              "<Figure size 432x288 with 1 Axes>"
            ]
          },
          "metadata": {
            "needs_background": "light"
          }
        },
        {
          "output_type": "stream",
          "name": "stderr",
          "text": [
            "/usr/local/lib/python3.7/dist-packages/seaborn/_decorators.py:43: FutureWarning: Pass the following variable as a keyword arg: x. From version 0.12, the only valid positional argument will be `data`, and passing other arguments without an explicit keyword will result in an error or misinterpretation.\n",
            "  FutureWarning\n"
          ]
        },
        {
          "output_type": "display_data",
          "data": {
            "image/png": "[encoded data removed]",
            "text/plain": [
              "<Figure size 432x288 with 1 Axes>"
            ]
          },
          "metadata": {
            "needs_background": "light"
          }
        },
        {
          "output_type": "stream",
          "name": "stderr",
          "text": [
            "/usr/local/lib/python3.7/dist-packages/seaborn/_decorators.py:43: FutureWarning: Pass the following variable as a keyword arg: x. From version 0.12, the only valid positional argument will be `data`, and passing other arguments without an explicit keyword will result in an error or misinterpretation.\n",
            "  FutureWarning\n"
          ]
        },
        {
          "output_type": "display_data",
          "data": {
            "image/png": "[encoded data removed]",
            "text/plain": [
              "<Figure size 432x288 with 1 Axes>"
            ]
          },
          "metadata": {
            "needs_background": "light"
          }
        },
        {
          "output_type": "stream",
          "name": "stderr",
          "text": [
            "/usr/local/lib/python3.7/dist-packages/seaborn/_decorators.py:43: FutureWarning: Pass the following variable as a keyword arg: x. From version 0.12, the only valid positional argument will be `data`, and passing other arguments without an explicit keyword will result in an error or misinterpretation.\n",
            "  FutureWarning\n"
          ]
        },
        {
          "output_type": "display_data",
          "data": {
            "image/png": "[encoded data removed]",
            "text/plain": [
              "<Figure size 432x288 with 1 Axes>"
            ]
          },
          "metadata": {
            "needs_background": "light"
          }
        },
        {
          "output_type": "stream",
          "name": "stderr",
          "text": [
            "/usr/local/lib/python3.7/dist-packages/seaborn/_decorators.py:43: FutureWarning: Pass the following variable as a keyword arg: x. From version 0.12, the only valid positional argument will be `data`, and passing other arguments without an explicit keyword will result in an error or misinterpretation.\n",
            "  FutureWarning\n"
          ]
        },
        {
          "output_type": "display_data",
          "data": {
            "image/png": "[encoded data removed]",
            "text/plain": [
              "<Figure size 432x288 with 1 Axes>"
            ]
          },
          "metadata": {
            "needs_background": "light"
          }
        },
        {
          "output_type": "stream",
          "name": "stderr",
          "text": [
            "/usr/local/lib/python3.7/dist-packages/seaborn/_decorators.py:43: FutureWarning: Pass the following variable as a keyword arg: x. From version 0.12, the only valid positional argument will be `data`, and passing other arguments without an explicit keyword will result in an error or misinterpretation.\n",
            "  FutureWarning\n"
          ]
        },
        {
          "output_type": "display_data",
          "data": {
            "image/png": "[encoded data removed]",
            "text/plain": [
              "<Figure size 432x288 with 1 Axes>"
            ]
          },
          "metadata": {
            "needs_background": "light"
          }
        },
        {
          "output_type": "stream",
          "name": "stderr",
          "text": [
            "/usr/local/lib/python3.7/dist-packages/seaborn/_decorators.py:43: FutureWarning: Pass the following variable as a keyword arg: x. From version 0.12, the only valid positional argument will be `data`, and passing other arguments without an explicit keyword will result in an error or misinterpretation.\n",
            "  FutureWarning\n"
          ]
        },
        {
          "output_type": "display_data",
          "data": {
            "image/png": "[encoded data removed]",
            "text/plain": [
              "<Figure size 432x288 with 1 Axes>"
            ]
          },
          "metadata": {
            "needs_background": "light"
          }
        },
        {
          "output_type": "stream",
          "name": "stderr",
          "text": [
            "/usr/local/lib/python3.7/dist-packages/seaborn/_decorators.py:43: FutureWarning: Pass the following variable as a keyword arg: x. From version 0.12, the only valid positional argument will be `data`, and passing other arguments without an explicit keyword will result in an error or misinterpretation.\n",
            "  FutureWarning\n"
          ]
        },
        {
          "output_type": "display_data",
          "data": {
            "image/png": "[encoded data removed]",
            "text/plain": [
              "<Figure size 432x288 with 1 Axes>"
            ]
          },
          "metadata": {
            "needs_background": "light"
          }
        },
        {
          "output_type": "stream",
          "name": "stderr",
          "text": [
            "/usr/local/lib/python3.7/dist-packages/seaborn/_decorators.py:43: FutureWarning: Pass the following variable as a keyword arg: x. From version 0.12, the only valid positional argument will be `data`, and passing other arguments without an explicit keyword will result in an error or misinterpretation.\n",
            "  FutureWarning\n"
          ]
        },
        {
          "output_type": "display_data",
          "data": {
            "image/png": "[encoded data removed]",
            "text/plain": [
              "<Figure size 432x288 with 1 Axes>"
            ]
          },
          "metadata": {
            "needs_background": "light"
          }
        },
        {
          "output_type": "stream",
          "name": "stderr",
          "text": [
            "/usr/local/lib/python3.7/dist-packages/seaborn/_decorators.py:43: FutureWarning: Pass the following variable as a keyword arg: x. From version 0.12, the only valid positional argument will be `data`, and passing other arguments without an explicit keyword will result in an error or misinterpretation.\n",
            "  FutureWarning\n"
          ]
        },
        {
          "output_type": "display_data",
          "data": {
            "image/png": "[encoded data removed]",
            "text/plain": [
              "<Figure size 432x288 with 1 Axes>"
            ]
          },
          "metadata": {
            "needs_background": "light"
          }
        },
        {
          "output_type": "stream",
          "name": "stderr",
          "text": [
            "/usr/local/lib/python3.7/dist-packages/seaborn/_decorators.py:43: FutureWarning: Pass the following variable as a keyword arg: x. From version 0.12, the only valid positional argument will be `data`, and passing other arguments without an explicit keyword will result in an error or misinterpretation.\n",
            "  FutureWarning\n"
          ]
        },
        {
          "output_type": "display_data",
          "data": {
            "image/png": "[encoded data removed]",
            "text/plain": [
              "<Figure size 432x288 with 1 Axes>"
            ]
          },
          "metadata": {
            "needs_background": "light"
          }
        },
        {
          "output_type": "stream",
          "name": "stderr",
          "text": [
            "/usr/local/lib/python3.7/dist-packages/seaborn/_decorators.py:43: FutureWarning: Pass the following variable as a keyword arg: x. From version 0.12, the only valid positional argument will be `data`, and passing other arguments without an explicit keyword will result in an error or misinterpretation.\n",
            "  FutureWarning\n"
          ]
        },
        {
          "output_type": "display_data",
          "data": {
            "image/png": "[encoded data removed]",
            "text/plain": [
              "<Figure size 432x288 with 1 Axes>"
            ]
          },
          "metadata": {
            "needs_background": "light"
          }
        }
      ]
    },
    {
      "cell_type": "code",
      "metadata": {
        "id": "XLmbXtZKCprt"
      },
      "source": [
        "\n"
      ],
      "execution_count": 30,
      "outputs": []
    },
    {
      "cell_type": "markdown",
      "metadata": {
        "id": "HKzhCTLJEsr8"
      },
      "source": [
        " # Numeric Data"
      ]
    },
    {
      "cell_type": "code",
      "metadata": {
        "id": "6TNAPNRmCpuC"
      },
      "source": [
        "\n",
        "numerical_cols = df.columns[df.dtypes == 'int64'].tolist()"
      ],
      "execution_count": 41,
      "outputs": []
    },
    {
      "cell_type": "code",
      "metadata": {
        "colab": {
          "base_uri": "https://localhost:8080/",
          "height": 1000
        },
        "id": "shUl0MXSCpwX",
        "outputId": "0a349ad3-df51-4ad7-f88f-589ac542716d"
      },
      "source": [
        "for c in numerical_cols:\n",
        "  plt.title(\" \".join(c.split(\"_\")),size=18,y=1.05)\n",
        "  sns.countplot(df[c],order=df[c].value_counts().index)\n",
        "  plt.show()"
      ],
      "execution_count": 42,
      "outputs": [
        {
          "output_type": "stream",
          "name": "stderr",
          "text": [
            "/usr/local/lib/python3.7/dist-packages/seaborn/_decorators.py:43: FutureWarning: Pass the following variable as a keyword arg: x. From version 0.12, the only valid positional argument will be `data`, and passing other arguments without an explicit keyword will result in an error or misinterpretation.\n",
            "  FutureWarning\n"
          ]
        },
        {
          "output_type": "display_data",
          "data": {
            "image/png": "[encoded data removed]",
            "text/plain": [
              "<Figure size 432x288 with 1 Axes>"
            ]
          },
          "metadata": {
            "needs_background": "light"
          }
        },
        {
          "output_type": "stream",
          "name": "stderr",
          "text": [
            "/usr/local/lib/python3.7/dist-packages/seaborn/_decorators.py:43: FutureWarning: Pass the following variable as a keyword arg: x. From version 0.12, the only valid positional argument will be `data`, and passing other arguments without an explicit keyword will result in an error or misinterpretation.\n",
            "  FutureWarning\n"
          ]
        },
        {
          "output_type": "display_data",
          "data": {
            "image/png": "[encoded data removed]",
            "text/plain": [
              "<Figure size 432x288 with 1 Axes>"
            ]
          },
          "metadata": {
            "needs_background": "light"
          }
        },
        {
          "output_type": "stream",
          "name": "stderr",
          "text": [
            "/usr/local/lib/python3.7/dist-packages/seaborn/_decorators.py:43: FutureWarning: Pass the following variable as a keyword arg: x. From version 0.12, the only valid positional argument will be `data`, and passing other arguments without an explicit keyword will result in an error or misinterpretation.\n",
            "  FutureWarning\n"
          ]
        },
        {
          "output_type": "display_data",
          "data": {
            "image/png": "[encoded data removed]",
            "text/plain": [
              "<Figure size 432x288 with 1 Axes>"
            ]
          },
          "metadata": {
            "needs_background": "light"
          }
        },
        {
          "output_type": "stream",
          "name": "stderr",
          "text": [
            "/usr/local/lib/python3.7/dist-packages/seaborn/_decorators.py:43: FutureWarning: Pass the following variable as a keyword arg: x. From version 0.12, the only valid positional argument will be `data`, and passing other arguments without an explicit keyword will result in an error or misinterpretation.\n",
            "  FutureWarning\n"
          ]
        },
        {
          "output_type": "display_data",
          "data": {
            "image/png": "[encoded data removed]",
            "text/plain": [
              "<Figure size 432x288 with 1 Axes>"
            ]
          },
          "metadata": {
            "needs_background": "light"
          }
        },
        {
          "output_type": "stream",
          "name": "stderr",
          "text": [
            "/usr/local/lib/python3.7/dist-packages/seaborn/_decorators.py:43: FutureWarning: Pass the following variable as a keyword arg: x. From version 0.12, the only valid positional argument will be `data`, and passing other arguments without an explicit keyword will result in an error or misinterpretation.\n",
            "  FutureWarning\n"
          ]
        },
        {
          "output_type": "display_data",
          "data": {
            "image/png": "[encoded data removed]",
            "text/plain": [
              "<Figure size 432x288 with 1 Axes>"
            ]
          },
          "metadata": {
            "needs_background": "light"
          }
        },
        {
          "output_type": "stream",
          "name": "stderr",
          "text": [
            "/usr/local/lib/python3.7/dist-packages/seaborn/_decorators.py:43: FutureWarning: Pass the following variable as a keyword arg: x. From version 0.12, the only valid positional argument will be `data`, and passing other arguments without an explicit keyword will result in an error or misinterpretation.\n",
            "  FutureWarning\n"
          ]
        },
        {
          "output_type": "display_data",
          "data": {
            "image/png": "[encoded data removed]",
            "text/plain": [
              "<Figure size 432x288 with 1 Axes>"
            ]
          },
          "metadata": {
            "needs_background": "light"
          }
        },
        {
          "output_type": "stream",
          "name": "stderr",
          "text": [
            "/usr/local/lib/python3.7/dist-packages/seaborn/_decorators.py:43: FutureWarning: Pass the following variable as a keyword arg: x. From version 0.12, the only valid positional argument will be `data`, and passing other arguments without an explicit keyword will result in an error or misinterpretation.\n",
            "  FutureWarning\n"
          ]
        },
        {
          "output_type": "display_data",
          "data": {
            "image/png": "[encoded data removed]",
            "text/plain": [
              "<Figure size 432x288 with 1 Axes>"
            ]
          },
          "metadata": {
            "needs_background": "light"
          }
        },
        {
          "output_type": "stream",
          "name": "stderr",
          "text": [
            "/usr/local/lib/python3.7/dist-packages/seaborn/_decorators.py:43: FutureWarning: Pass the following variable as a keyword arg: x. From version 0.12, the only valid positional argument will be `data`, and passing other arguments without an explicit keyword will result in an error or misinterpretation.\n",
            "  FutureWarning\n"
          ]
        },
        {
          "output_type": "display_data",
          "data": {
            "image/png": "[encoded data removed]",
            "text/plain": [
              "<Figure size 432x288 with 1 Axes>"
            ]
          },
          "metadata": {
            "needs_background": "light"
          }
        },
        {
          "output_type": "stream",
          "name": "stderr",
          "text": [
            "/usr/local/lib/python3.7/dist-packages/seaborn/_decorators.py:43: FutureWarning: Pass the following variable as a keyword arg: x. From version 0.12, the only valid positional argument will be `data`, and passing other arguments without an explicit keyword will result in an error or misinterpretation.\n",
            "  FutureWarning\n"
          ]
        },
        {
          "output_type": "display_data",
          "data": {
            "image/png": "[encoded data removed]",
            "text/plain": [
              "<Figure size 432x288 with 1 Axes>"
            ]
          },
          "metadata": {
            "needs_background": "light"
          }
        },
        {
          "output_type": "stream",
          "name": "stderr",
          "text": [
            "/usr/local/lib/python3.7/dist-packages/seaborn/_decorators.py:43: FutureWarning: Pass the following variable as a keyword arg: x. From version 0.12, the only valid positional argument will be `data`, and passing other arguments without an explicit keyword will result in an error or misinterpretation.\n",
            "  FutureWarning\n"
          ]
        },
        {
          "output_type": "display_data",
          "data": {
            "image/png": "[encoded data removed]",
            "text/plain": [
              "<Figure size 432x288 with 1 Axes>"
            ]
          },
          "metadata": {
            "needs_background": "light"
          }
        },
        {
          "output_type": "stream",
          "name": "stderr",
          "text": [
            "/usr/local/lib/python3.7/dist-packages/seaborn/_decorators.py:43: FutureWarning: Pass the following variable as a keyword arg: x. From version 0.12, the only valid positional argument will be `data`, and passing other arguments without an explicit keyword will result in an error or misinterpretation.\n",
            "  FutureWarning\n"
          ]
        },
        {
          "output_type": "display_data",
          "data": {
            "image/png": "[encoded data removed]",
            "text/plain": [
              "<Figure size 432x288 with 1 Axes>"
            ]
          },
          "metadata": {
            "needs_background": "light"
          }
        },
        {
          "output_type": "stream",
          "name": "stderr",
          "text": [
            "/usr/local/lib/python3.7/dist-packages/seaborn/_decorators.py:43: FutureWarning: Pass the following variable as a keyword arg: x. From version 0.12, the only valid positional argument will be `data`, and passing other arguments without an explicit keyword will result in an error or misinterpretation.\n",
            "  FutureWarning\n"
          ]
        },
        {
          "output_type": "display_data",
          "data": {
            "image/png": "[encoded data removed]",
            "text/plain": [
              "<Figure size 432x288 with 1 Axes>"
            ]
          },
          "metadata": {
            "needs_background": "light"
          }
        },
        {
          "output_type": "stream",
          "name": "stderr",
          "text": [
            "/usr/local/lib/python3.7/dist-packages/seaborn/_decorators.py:43: FutureWarning: Pass the following variable as a keyword arg: x. From version 0.12, the only valid positional argument will be `data`, and passing other arguments without an explicit keyword will result in an error or misinterpretation.\n",
            "  FutureWarning\n"
          ]
        },
        {
          "output_type": "display_data",
          "data": {
            "image/png": "[encoded data removed]",
            "text/plain": [
              "<Figure size 432x288 with 1 Axes>"
            ]
          },
          "metadata": {
            "needs_background": "light"
          }
        },
        {
          "output_type": "stream",
          "name": "stderr",
          "text": [
            "/usr/local/lib/python3.7/dist-packages/seaborn/_decorators.py:43: FutureWarning: Pass the following variable as a keyword arg: x. From version 0.12, the only valid positional argument will be `data`, and passing other arguments without an explicit keyword will result in an error or misinterpretation.\n",
            "  FutureWarning\n"
          ]
        },
        {
          "output_type": "display_data",
          "data": {
            "image/png": "[encoded data removed]",
            "text/plain": [
              "<Figure size 432x288 with 1 Axes>"
            ]
          },
          "metadata": {
            "needs_background": "light"
          }
        },
        {
          "output_type": "stream",
          "name": "stderr",
          "text": [
            "/usr/local/lib/python3.7/dist-packages/seaborn/_decorators.py:43: FutureWarning: Pass the following variable as a keyword arg: x. From version 0.12, the only valid positional argument will be `data`, and passing other arguments without an explicit keyword will result in an error or misinterpretation.\n",
            "  FutureWarning\n"
          ]
        },
        {
          "output_type": "display_data",
          "data": {
            "image/png": "[encoded data removed]",
            "text/plain": [
              "<Figure size 432x288 with 1 Axes>"
            ]
          },
          "metadata": {
            "needs_background": "light"
          }
        },
        {
          "output_type": "stream",
          "name": "stderr",
          "text": [
            "/usr/local/lib/python3.7/dist-packages/seaborn/_decorators.py:43: FutureWarning: Pass the following variable as a keyword arg: x. From version 0.12, the only valid positional argument will be `data`, and passing other arguments without an explicit keyword will result in an error or misinterpretation.\n",
            "  FutureWarning\n"
          ]
        },
        {
          "output_type": "display_data",
          "data": {
            "image/png": "[encoded data removed]",
            "text/plain": [
              "<Figure size 432x288 with 1 Axes>"
            ]
          },
          "metadata": {
            "needs_background": "light"
          }
        }
      ]
    },
    {
      "cell_type": "code",
      "metadata": {
        "id": "rFkJlpmqCpyz"
      },
      "source": [
        ""
      ],
      "execution_count": null,
      "outputs": []
    },
    {
      "cell_type": "code",
      "metadata": {
        "id": "QX3R33SnAIxO"
      },
      "source": [
        ""
      ],
      "execution_count": null,
      "outputs": []
    },
    {
      "cell_type": "code",
      "metadata": {
        "id": "HSjHaC5mAI0f"
      },
      "source": [
        ""
      ],
      "execution_count": null,
      "outputs": []
    },
    {
      "cell_type": "code",
      "metadata": {
        "id": "BXNu-cVgAI2d"
      },
      "source": [
        ""
      ],
      "execution_count": null,
      "outputs": []
    },
    {
      "cell_type": "code",
      "metadata": {
        "id": "MFJhsfbHRD5K",
        "colab": {
          "base_uri": "https://localhost:8080/",
          "height": 264
        },
        "outputId": "0f4dcdc4-9cd8-4a3f-b455-80cf4e0d02dd"
      },
      "source": [
        "import seaborn as sns\n",
        "import matplotlib.pyplot as plt\n",
        "sns.boxplot(data=df,orient = \"h\");"
      ],
      "execution_count": 19,
      "outputs": [
        {
          "output_type": "display_data",
          "data": {
            "image/png": "[encoded data removed]",
            "text/plain": [
              "<Figure size 432x288 with 1 Axes>"
            ]
          },
          "metadata": {
            "needs_background": "light"
          }
        }
      ]
    },
    {
      "cell_type": "code",
      "metadata": {
        "id": "8FPGIEIkUStq",
        "colab": {
          "base_uri": "https://localhost:8080/",
          "height": 558
        },
        "outputId": "d3771d1e-ac93-4954-bf73-b474b9c5d9db"
      },
      "source": [
        "(df\n",
        " .corr(method='spearman')\n",
        " .style.background_gradient(cmap='RdBu', vmin=-1, vmax=1)\n",
        ")"
      ],
      "execution_count": 22,
      "outputs": [
        {
          "output_type": "execute_result",
          "data": {
            "text/html": [
              "<style  type=\"text/css\" >\n",
              "#T_a31f3c52_45a3_11ec_b105_0242ac1c0002row0_col0,#T_a31f3c52_45a3_11ec_b105_0242ac1c0002row1_col1,#T_a31f3c52_45a3_11ec_b105_0242ac1c0002row2_col2,#T_a31f3c52_45a3_11ec_b105_0242ac1c0002row3_col3,#T_a31f3c52_45a3_11ec_b105_0242ac1c0002row4_col4,#T_a31f3c52_45a3_11ec_b105_0242ac1c0002row5_col5,#T_a31f3c52_45a3_11ec_b105_0242ac1c0002row6_col6,#T_a31f3c52_45a3_11ec_b105_0242ac1c0002row7_col7,#T_a31f3c52_45a3_11ec_b105_0242ac1c0002row8_col8,#T_a31f3c52_45a3_11ec_b105_0242ac1c0002row9_col9,#T_a31f3c52_45a3_11ec_b105_0242ac1c0002row10_col10,#T_a31f3c52_45a3_11ec_b105_0242ac1c0002row11_col11,#T_a31f3c52_45a3_11ec_b105_0242ac1c0002row12_col12,#T_a31f3c52_45a3_11ec_b105_0242ac1c0002row13_col13,#T_a31f3c52_45a3_11ec_b105_0242ac1c0002row14_col14,#T_a31f3c52_45a3_11ec_b105_0242ac1c0002row15_col15{\n",
              "            background-color:  #053061;\n",
              "            color:  #f1f1f1;\n",
              "        }#T_a31f3c52_45a3_11ec_b105_0242ac1c0002row0_col1,#T_a31f3c52_45a3_11ec_b105_0242ac1c0002row1_col0,#T_a31f3c52_45a3_11ec_b105_0242ac1c0002row4_col5,#T_a31f3c52_45a3_11ec_b105_0242ac1c0002row5_col4,#T_a31f3c52_45a3_11ec_b105_0242ac1c0002row8_col14,#T_a31f3c52_45a3_11ec_b105_0242ac1c0002row14_col8{\n",
              "            background-color:  #fce0d0;\n",
              "            color:  #000000;\n",
              "        }#T_a31f3c52_45a3_11ec_b105_0242ac1c0002row0_col2,#T_a31f3c52_45a3_11ec_b105_0242ac1c0002row2_col0,#T_a31f3c52_45a3_11ec_b105_0242ac1c0002row2_col3,#T_a31f3c52_45a3_11ec_b105_0242ac1c0002row3_col2,#T_a31f3c52_45a3_11ec_b105_0242ac1c0002row8_col13,#T_a31f3c52_45a3_11ec_b105_0242ac1c0002row13_col8{\n",
              "            background-color:  #fce2d2;\n",
              "            color:  #000000;\n",
              "        }#T_a31f3c52_45a3_11ec_b105_0242ac1c0002row0_col3,#T_a31f3c52_45a3_11ec_b105_0242ac1c0002row3_col0{\n",
              "            background-color:  #e1edf3;\n",
              "            color:  #000000;\n",
              "        }#T_a31f3c52_45a3_11ec_b105_0242ac1c0002row0_col4,#T_a31f3c52_45a3_11ec_b105_0242ac1c0002row0_col6,#T_a31f3c52_45a3_11ec_b105_0242ac1c0002row4_col0,#T_a31f3c52_45a3_11ec_b105_0242ac1c0002row6_col0{\n",
              "            background-color:  #f0f4f6;\n",
              "            color:  #000000;\n",
              "        }#T_a31f3c52_45a3_11ec_b105_0242ac1c0002row0_col5,#T_a31f3c52_45a3_11ec_b105_0242ac1c0002row1_col14,#T_a31f3c52_45a3_11ec_b105_0242ac1c0002row5_col0,#T_a31f3c52_45a3_11ec_b105_0242ac1c0002row14_col1{\n",
              "            background-color:  #c5dfec;\n",
              "            color:  #000000;\n",
              "        }#T_a31f3c52_45a3_11ec_b105_0242ac1c0002row0_col7,#T_a31f3c52_45a3_11ec_b105_0242ac1c0002row2_col9,#T_a31f3c52_45a3_11ec_b105_0242ac1c0002row2_col12,#T_a31f3c52_45a3_11ec_b105_0242ac1c0002row7_col0,#T_a31f3c52_45a3_11ec_b105_0242ac1c0002row7_col13,#T_a31f3c52_45a3_11ec_b105_0242ac1c0002row9_col2,#T_a31f3c52_45a3_11ec_b105_0242ac1c0002row12_col2,#T_a31f3c52_45a3_11ec_b105_0242ac1c0002row12_col13,#T_a31f3c52_45a3_11ec_b105_0242ac1c0002row13_col7,#T_a31f3c52_45a3_11ec_b105_0242ac1c0002row13_col12{\n",
              "            background-color:  #f6f7f7;\n",
              "            color:  #000000;\n",
              "        }#T_a31f3c52_45a3_11ec_b105_0242ac1c0002row0_col8,#T_a31f3c52_45a3_11ec_b105_0242ac1c0002row8_col0,#T_a31f3c52_45a3_11ec_b105_0242ac1c0002row8_col12,#T_a31f3c52_45a3_11ec_b105_0242ac1c0002row12_col8{\n",
              "            background-color:  #ddebf2;\n",
              "            color:  #000000;\n",
              "        }#T_a31f3c52_45a3_11ec_b105_0242ac1c0002row0_col9,#T_a31f3c52_45a3_11ec_b105_0242ac1c0002row1_col12,#T_a31f3c52_45a3_11ec_b105_0242ac1c0002row5_col12,#T_a31f3c52_45a3_11ec_b105_0242ac1c0002row9_col0,#T_a31f3c52_45a3_11ec_b105_0242ac1c0002row9_col11,#T_a31f3c52_45a3_11ec_b105_0242ac1c0002row11_col9,#T_a31f3c52_45a3_11ec_b105_0242ac1c0002row12_col1,#T_a31f3c52_45a3_11ec_b105_0242ac1c0002row12_col5{\n",
              "            background-color:  #e4eef4;\n",
              "            color:  #000000;\n",
              "        }#T_a31f3c52_45a3_11ec_b105_0242ac1c0002row0_col10,#T_a31f3c52_45a3_11ec_b105_0242ac1c0002row4_col14,#T_a31f3c52_45a3_11ec_b105_0242ac1c0002row5_col10,#T_a31f3c52_45a3_11ec_b105_0242ac1c0002row7_col10,#T_a31f3c52_45a3_11ec_b105_0242ac1c0002row9_col12,#T_a31f3c52_45a3_11ec_b105_0242ac1c0002row10_col0,#T_a31f3c52_45a3_11ec_b105_0242ac1c0002row10_col5,#T_a31f3c52_45a3_11ec_b105_0242ac1c0002row10_col7,#T_a31f3c52_45a3_11ec_b105_0242ac1c0002row12_col9,#T_a31f3c52_45a3_11ec_b105_0242ac1c0002row14_col4{\n",
              "            background-color:  #deebf2;\n",
              "            color:  #000000;\n",
              "        }#T_a31f3c52_45a3_11ec_b105_0242ac1c0002row0_col11,#T_a31f3c52_45a3_11ec_b105_0242ac1c0002row11_col0{\n",
              "            background-color:  #f9ede5;\n",
              "            color:  #000000;\n",
              "        }#T_a31f3c52_45a3_11ec_b105_0242ac1c0002row0_col12,#T_a31f3c52_45a3_11ec_b105_0242ac1c0002row12_col0{\n",
              "            background-color:  #dae9f2;\n",
              "            color:  #000000;\n",
              "        }#T_a31f3c52_45a3_11ec_b105_0242ac1c0002row0_col13,#T_a31f3c52_45a3_11ec_b105_0242ac1c0002row13_col0{\n",
              "            background-color:  #f9efe9;\n",
              "            color:  #000000;\n",
              "        }#T_a31f3c52_45a3_11ec_b105_0242ac1c0002row0_col14,#T_a31f3c52_45a3_11ec_b105_0242ac1c0002row8_col15,#T_a31f3c52_45a3_11ec_b105_0242ac1c0002row14_col0,#T_a31f3c52_45a3_11ec_b105_0242ac1c0002row15_col8{\n",
              "            background-color:  #fcdfcf;\n",
              "            color:  #000000;\n",
              "        }#T_a31f3c52_45a3_11ec_b105_0242ac1c0002row0_col15,#T_a31f3c52_45a3_11ec_b105_0242ac1c0002row15_col0{\n",
              "            background-color:  #fcdecd;\n",
              "            color:  #000000;\n",
              "        }#T_a31f3c52_45a3_11ec_b105_0242ac1c0002row1_col2,#T_a31f3c52_45a3_11ec_b105_0242ac1c0002row2_col1{\n",
              "            background-color:  #3e8cbf;\n",
              "            color:  #000000;\n",
              "        }#T_a31f3c52_45a3_11ec_b105_0242ac1c0002row1_col3,#T_a31f3c52_45a3_11ec_b105_0242ac1c0002row3_col1{\n",
              "            background-color:  #fbe3d4;\n",
              "            color:  #000000;\n",
              "        }#T_a31f3c52_45a3_11ec_b105_0242ac1c0002row1_col4,#T_a31f3c52_45a3_11ec_b105_0242ac1c0002row1_col8,#T_a31f3c52_45a3_11ec_b105_0242ac1c0002row3_col9,#T_a31f3c52_45a3_11ec_b105_0242ac1c0002row3_col10,#T_a31f3c52_45a3_11ec_b105_0242ac1c0002row4_col1,#T_a31f3c52_45a3_11ec_b105_0242ac1c0002row6_col8,#T_a31f3c52_45a3_11ec_b105_0242ac1c0002row8_col1,#T_a31f3c52_45a3_11ec_b105_0242ac1c0002row8_col6,#T_a31f3c52_45a3_11ec_b105_0242ac1c0002row9_col3,#T_a31f3c52_45a3_11ec_b105_0242ac1c0002row10_col3{\n",
              "            background-color:  #eaf1f5;\n",
              "            color:  #000000;\n",
              "        }#T_a31f3c52_45a3_11ec_b105_0242ac1c0002row1_col5,#T_a31f3c52_45a3_11ec_b105_0242ac1c0002row5_col1{\n",
              "            background-color:  #fbceb7;\n",
              "            color:  #000000;\n",
              "        }#T_a31f3c52_45a3_11ec_b105_0242ac1c0002row1_col6,#T_a31f3c52_45a3_11ec_b105_0242ac1c0002row2_col6,#T_a31f3c52_45a3_11ec_b105_0242ac1c0002row6_col1,#T_a31f3c52_45a3_11ec_b105_0242ac1c0002row6_col2,#T_a31f3c52_45a3_11ec_b105_0242ac1c0002row6_col14,#T_a31f3c52_45a3_11ec_b105_0242ac1c0002row7_col12,#T_a31f3c52_45a3_11ec_b105_0242ac1c0002row12_col7,#T_a31f3c52_45a3_11ec_b105_0242ac1c0002row14_col6{\n",
              "            background-color:  #f5f6f7;\n",
              "            color:  #000000;\n",
              "        }#T_a31f3c52_45a3_11ec_b105_0242ac1c0002row1_col7,#T_a31f3c52_45a3_11ec_b105_0242ac1c0002row6_col13,#T_a31f3c52_45a3_11ec_b105_0242ac1c0002row7_col1,#T_a31f3c52_45a3_11ec_b105_0242ac1c0002row13_col6{\n",
              "            background-color:  #f2f5f6;\n",
              "            color:  #000000;\n",
              "        }#T_a31f3c52_45a3_11ec_b105_0242ac1c0002row1_col9,#T_a31f3c52_45a3_11ec_b105_0242ac1c0002row2_col4,#T_a31f3c52_45a3_11ec_b105_0242ac1c0002row2_col11,#T_a31f3c52_45a3_11ec_b105_0242ac1c0002row4_col2,#T_a31f3c52_45a3_11ec_b105_0242ac1c0002row9_col1,#T_a31f3c52_45a3_11ec_b105_0242ac1c0002row11_col2,#T_a31f3c52_45a3_11ec_b105_0242ac1c0002row12_col15,#T_a31f3c52_45a3_11ec_b105_0242ac1c0002row15_col12{\n",
              "            background-color:  #f3f5f6;\n",
              "            color:  #000000;\n",
              "        }#T_a31f3c52_45a3_11ec_b105_0242ac1c0002row1_col10,#T_a31f3c52_45a3_11ec_b105_0242ac1c0002row4_col12,#T_a31f3c52_45a3_11ec_b105_0242ac1c0002row10_col1,#T_a31f3c52_45a3_11ec_b105_0242ac1c0002row12_col4{\n",
              "            background-color:  #f8f1ed;\n",
              "            color:  #000000;\n",
              "        }#T_a31f3c52_45a3_11ec_b105_0242ac1c0002row1_col11,#T_a31f3c52_45a3_11ec_b105_0242ac1c0002row3_col6,#T_a31f3c52_45a3_11ec_b105_0242ac1c0002row6_col3,#T_a31f3c52_45a3_11ec_b105_0242ac1c0002row11_col1,#T_a31f3c52_45a3_11ec_b105_0242ac1c0002row12_col14,#T_a31f3c52_45a3_11ec_b105_0242ac1c0002row14_col12{\n",
              "            background-color:  #f8f2ef;\n",
              "            color:  #000000;\n",
              "        }#T_a31f3c52_45a3_11ec_b105_0242ac1c0002row1_col13,#T_a31f3c52_45a3_11ec_b105_0242ac1c0002row10_col12,#T_a31f3c52_45a3_11ec_b105_0242ac1c0002row12_col10,#T_a31f3c52_45a3_11ec_b105_0242ac1c0002row13_col1{\n",
              "            background-color:  #cfe4ef;\n",
              "            color:  #000000;\n",
              "        }#T_a31f3c52_45a3_11ec_b105_0242ac1c0002row1_col15,#T_a31f3c52_45a3_11ec_b105_0242ac1c0002row15_col1{\n",
              "            background-color:  #cae1ee;\n",
              "            color:  #000000;\n",
              "        }#T_a31f3c52_45a3_11ec_b105_0242ac1c0002row2_col5,#T_a31f3c52_45a3_11ec_b105_0242ac1c0002row5_col2{\n",
              "            background-color:  #fbd0b9;\n",
              "            color:  #000000;\n",
              "        }#T_a31f3c52_45a3_11ec_b105_0242ac1c0002row2_col7,#T_a31f3c52_45a3_11ec_b105_0242ac1c0002row3_col7,#T_a31f3c52_45a3_11ec_b105_0242ac1c0002row7_col2,#T_a31f3c52_45a3_11ec_b105_0242ac1c0002row7_col3,#T_a31f3c52_45a3_11ec_b105_0242ac1c0002row7_col14,#T_a31f3c52_45a3_11ec_b105_0242ac1c0002row8_col11,#T_a31f3c52_45a3_11ec_b105_0242ac1c0002row11_col8,#T_a31f3c52_45a3_11ec_b105_0242ac1c0002row14_col7{\n",
              "            background-color:  #f8f4f2;\n",
              "            color:  #000000;\n",
              "        }#T_a31f3c52_45a3_11ec_b105_0242ac1c0002row2_col8,#T_a31f3c52_45a3_11ec_b105_0242ac1c0002row8_col2{\n",
              "            background-color:  #edf2f5;\n",
              "            color:  #000000;\n",
              "        }#T_a31f3c52_45a3_11ec_b105_0242ac1c0002row2_col10,#T_a31f3c52_45a3_11ec_b105_0242ac1c0002row3_col11,#T_a31f3c52_45a3_11ec_b105_0242ac1c0002row10_col2,#T_a31f3c52_45a3_11ec_b105_0242ac1c0002row11_col3{\n",
              "            background-color:  #f7f5f4;\n",
              "            color:  #000000;\n",
              "        }#T_a31f3c52_45a3_11ec_b105_0242ac1c0002row2_col13,#T_a31f3c52_45a3_11ec_b105_0242ac1c0002row2_col14,#T_a31f3c52_45a3_11ec_b105_0242ac1c0002row7_col9,#T_a31f3c52_45a3_11ec_b105_0242ac1c0002row9_col7,#T_a31f3c52_45a3_11ec_b105_0242ac1c0002row13_col2,#T_a31f3c52_45a3_11ec_b105_0242ac1c0002row14_col2{\n",
              "            background-color:  #d2e6f0;\n",
              "            color:  #000000;\n",
              "        }#T_a31f3c52_45a3_11ec_b105_0242ac1c0002row2_col15,#T_a31f3c52_45a3_11ec_b105_0242ac1c0002row15_col2{\n",
              "            background-color:  #d7e8f1;\n",
              "            color:  #000000;\n",
              "        }#T_a31f3c52_45a3_11ec_b105_0242ac1c0002row3_col4,#T_a31f3c52_45a3_11ec_b105_0242ac1c0002row4_col3,#T_a31f3c52_45a3_11ec_b105_0242ac1c0002row6_col9,#T_a31f3c52_45a3_11ec_b105_0242ac1c0002row9_col6,#T_a31f3c52_45a3_11ec_b105_0242ac1c0002row10_col13,#T_a31f3c52_45a3_11ec_b105_0242ac1c0002row10_col14,#T_a31f3c52_45a3_11ec_b105_0242ac1c0002row10_col15,#T_a31f3c52_45a3_11ec_b105_0242ac1c0002row13_col10,#T_a31f3c52_45a3_11ec_b105_0242ac1c0002row14_col10,#T_a31f3c52_45a3_11ec_b105_0242ac1c0002row15_col10{\n",
              "            background-color:  #fae8de;\n",
              "            color:  #000000;\n",
              "        }#T_a31f3c52_45a3_11ec_b105_0242ac1c0002row3_col5,#T_a31f3c52_45a3_11ec_b105_0242ac1c0002row5_col3,#T_a31f3c52_45a3_11ec_b105_0242ac1c0002row5_col11,#T_a31f3c52_45a3_11ec_b105_0242ac1c0002row6_col11,#T_a31f3c52_45a3_11ec_b105_0242ac1c0002row11_col5,#T_a31f3c52_45a3_11ec_b105_0242ac1c0002row11_col6{\n",
              "            background-color:  #e7f0f4;\n",
              "            color:  #000000;\n",
              "        }#T_a31f3c52_45a3_11ec_b105_0242ac1c0002row3_col8,#T_a31f3c52_45a3_11ec_b105_0242ac1c0002row7_col15,#T_a31f3c52_45a3_11ec_b105_0242ac1c0002row8_col3,#T_a31f3c52_45a3_11ec_b105_0242ac1c0002row15_col7{\n",
              "            background-color:  #f7f6f6;\n",
              "            color:  #000000;\n",
              "        }#T_a31f3c52_45a3_11ec_b105_0242ac1c0002row3_col12,#T_a31f3c52_45a3_11ec_b105_0242ac1c0002row12_col3{\n",
              "            background-color:  #f8f3f0;\n",
              "            color:  #000000;\n",
              "        }#T_a31f3c52_45a3_11ec_b105_0242ac1c0002row3_col13,#T_a31f3c52_45a3_11ec_b105_0242ac1c0002row13_col3{\n",
              "            background-color:  #f9ebe3;\n",
              "            color:  #000000;\n",
              "        }#T_a31f3c52_45a3_11ec_b105_0242ac1c0002row3_col14,#T_a31f3c52_45a3_11ec_b105_0242ac1c0002row3_col15,#T_a31f3c52_45a3_11ec_b105_0242ac1c0002row9_col15,#T_a31f3c52_45a3_11ec_b105_0242ac1c0002row14_col3,#T_a31f3c52_45a3_11ec_b105_0242ac1c0002row15_col3,#T_a31f3c52_45a3_11ec_b105_0242ac1c0002row15_col9{\n",
              "            background-color:  #fbe6da;\n",
              "            color:  #000000;\n",
              "        }#T_a31f3c52_45a3_11ec_b105_0242ac1c0002row4_col6,#T_a31f3c52_45a3_11ec_b105_0242ac1c0002row6_col4,#T_a31f3c52_45a3_11ec_b105_0242ac1c0002row6_col15,#T_a31f3c52_45a3_11ec_b105_0242ac1c0002row15_col6{\n",
              "            background-color:  #ecf2f5;\n",
              "            color:  #000000;\n",
              "        }#T_a31f3c52_45a3_11ec_b105_0242ac1c0002row4_col7,#T_a31f3c52_45a3_11ec_b105_0242ac1c0002row7_col4{\n",
              "            background-color:  #fbe5d8;\n",
              "            color:  #000000;\n",
              "        }#T_a31f3c52_45a3_11ec_b105_0242ac1c0002row4_col8,#T_a31f3c52_45a3_11ec_b105_0242ac1c0002row8_col4,#T_a31f3c52_45a3_11ec_b105_0242ac1c0002row11_col12,#T_a31f3c52_45a3_11ec_b105_0242ac1c0002row12_col11{\n",
              "            background-color:  #f9eee7;\n",
              "            color:  #000000;\n",
              "        }#T_a31f3c52_45a3_11ec_b105_0242ac1c0002row4_col9,#T_a31f3c52_45a3_11ec_b105_0242ac1c0002row9_col4{\n",
              "            background-color:  #fcd7c2;\n",
              "            color:  #000000;\n",
              "        }#T_a31f3c52_45a3_11ec_b105_0242ac1c0002row4_col10,#T_a31f3c52_45a3_11ec_b105_0242ac1c0002row10_col4{\n",
              "            background-color:  #facab1;\n",
              "            color:  #000000;\n",
              "        }#T_a31f3c52_45a3_11ec_b105_0242ac1c0002row4_col11,#T_a31f3c52_45a3_11ec_b105_0242ac1c0002row6_col12,#T_a31f3c52_45a3_11ec_b105_0242ac1c0002row11_col4,#T_a31f3c52_45a3_11ec_b105_0242ac1c0002row12_col6{\n",
              "            background-color:  #faeae1;\n",
              "            color:  #000000;\n",
              "        }#T_a31f3c52_45a3_11ec_b105_0242ac1c0002row4_col13,#T_a31f3c52_45a3_11ec_b105_0242ac1c0002row13_col4{\n",
              "            background-color:  #d8e9f1;\n",
              "            color:  #000000;\n",
              "        }#T_a31f3c52_45a3_11ec_b105_0242ac1c0002row4_col15,#T_a31f3c52_45a3_11ec_b105_0242ac1c0002row5_col8,#T_a31f3c52_45a3_11ec_b105_0242ac1c0002row8_col5,#T_a31f3c52_45a3_11ec_b105_0242ac1c0002row15_col4{\n",
              "            background-color:  #e3edf3;\n",
              "            color:  #000000;\n",
              "        }#T_a31f3c52_45a3_11ec_b105_0242ac1c0002row5_col6,#T_a31f3c52_45a3_11ec_b105_0242ac1c0002row6_col5,#T_a31f3c52_45a3_11ec_b105_0242ac1c0002row11_col13,#T_a31f3c52_45a3_11ec_b105_0242ac1c0002row11_col14,#T_a31f3c52_45a3_11ec_b105_0242ac1c0002row11_col15,#T_a31f3c52_45a3_11ec_b105_0242ac1c0002row13_col11,#T_a31f3c52_45a3_11ec_b105_0242ac1c0002row14_col11,#T_a31f3c52_45a3_11ec_b105_0242ac1c0002row15_col11{\n",
              "            background-color:  #f9f0eb;\n",
              "            color:  #000000;\n",
              "        }#T_a31f3c52_45a3_11ec_b105_0242ac1c0002row5_col7,#T_a31f3c52_45a3_11ec_b105_0242ac1c0002row7_col5,#T_a31f3c52_45a3_11ec_b105_0242ac1c0002row7_col11,#T_a31f3c52_45a3_11ec_b105_0242ac1c0002row10_col11,#T_a31f3c52_45a3_11ec_b105_0242ac1c0002row11_col7,#T_a31f3c52_45a3_11ec_b105_0242ac1c0002row11_col10{\n",
              "            background-color:  #e6eff4;\n",
              "            color:  #000000;\n",
              "        }#T_a31f3c52_45a3_11ec_b105_0242ac1c0002row5_col9,#T_a31f3c52_45a3_11ec_b105_0242ac1c0002row9_col5{\n",
              "            background-color:  #d4e6f1;\n",
              "            color:  #000000;\n",
              "        }#T_a31f3c52_45a3_11ec_b105_0242ac1c0002row5_col13,#T_a31f3c52_45a3_11ec_b105_0242ac1c0002row13_col5{\n",
              "            background-color:  #f6b394;\n",
              "            color:  #000000;\n",
              "        }#T_a31f3c52_45a3_11ec_b105_0242ac1c0002row5_col14,#T_a31f3c52_45a3_11ec_b105_0242ac1c0002row5_col15,#T_a31f3c52_45a3_11ec_b105_0242ac1c0002row14_col5,#T_a31f3c52_45a3_11ec_b105_0242ac1c0002row15_col5{\n",
              "            background-color:  #f6af8e;\n",
              "            color:  #000000;\n",
              "        }#T_a31f3c52_45a3_11ec_b105_0242ac1c0002row6_col7,#T_a31f3c52_45a3_11ec_b105_0242ac1c0002row7_col6{\n",
              "            background-color:  #dbeaf2;\n",
              "            color:  #000000;\n",
              "        }#T_a31f3c52_45a3_11ec_b105_0242ac1c0002row6_col10,#T_a31f3c52_45a3_11ec_b105_0242ac1c0002row9_col13,#T_a31f3c52_45a3_11ec_b105_0242ac1c0002row9_col14,#T_a31f3c52_45a3_11ec_b105_0242ac1c0002row10_col6,#T_a31f3c52_45a3_11ec_b105_0242ac1c0002row13_col9,#T_a31f3c52_45a3_11ec_b105_0242ac1c0002row14_col9{\n",
              "            background-color:  #fae7dc;\n",
              "            color:  #000000;\n",
              "        }#T_a31f3c52_45a3_11ec_b105_0242ac1c0002row7_col8,#T_a31f3c52_45a3_11ec_b105_0242ac1c0002row8_col7{\n",
              "            background-color:  #b6d7e8;\n",
              "            color:  #000000;\n",
              "        }#T_a31f3c52_45a3_11ec_b105_0242ac1c0002row8_col9,#T_a31f3c52_45a3_11ec_b105_0242ac1c0002row9_col8{\n",
              "            background-color:  #c0dceb;\n",
              "            color:  #000000;\n",
              "        }#T_a31f3c52_45a3_11ec_b105_0242ac1c0002row8_col10,#T_a31f3c52_45a3_11ec_b105_0242ac1c0002row10_col8{\n",
              "            background-color:  #93c6de;\n",
              "            color:  #000000;\n",
              "        }#T_a31f3c52_45a3_11ec_b105_0242ac1c0002row9_col10,#T_a31f3c52_45a3_11ec_b105_0242ac1c0002row10_col9{\n",
              "            background-color:  #3c8abe;\n",
              "            color:  #000000;\n",
              "        }#T_a31f3c52_45a3_11ec_b105_0242ac1c0002row13_col14,#T_a31f3c52_45a3_11ec_b105_0242ac1c0002row14_col13{\n",
              "            background-color:  #134c87;\n",
              "            color:  #f1f1f1;\n",
              "        }#T_a31f3c52_45a3_11ec_b105_0242ac1c0002row13_col15,#T_a31f3c52_45a3_11ec_b105_0242ac1c0002row15_col13{\n",
              "            background-color:  #15508d;\n",
              "            color:  #f1f1f1;\n",
              "        }#T_a31f3c52_45a3_11ec_b105_0242ac1c0002row14_col15,#T_a31f3c52_45a3_11ec_b105_0242ac1c0002row15_col14{\n",
              "            background-color:  #0a3b70;\n",
              "            color:  #f1f1f1;\n",
              "        }</style><table id=\"T_a31f3c52_45a3_11ec_b105_0242ac1c0002\" class=\"dataframe\"><thead>    <tr>        <th class=\"blank level0\" ></th>        <th class=\"col_heading level0 col0\" >age</th>        <th class=\"col_heading level0 col1\" >Medu</th>        <th class=\"col_heading level0 col2\" >Fedu</th>        <th class=\"col_heading level0 col3\" >traveltime</th>        <th class=\"col_heading level0 col4\" >studytime</th>        <th class=\"col_heading level0 col5\" >failures</th>        <th class=\"col_heading level0 col6\" >famrel</th>        <th class=\"col_heading level0 col7\" >freetime</th>        <th class=\"col_heading level0 col8\" >goout</th>        <th class=\"col_heading level0 col9\" >Dalc</th>        <th class=\"col_heading level0 col10\" >Walc</th>        <th class=\"col_heading level0 col11\" >health</th>        <th class=\"col_heading level0 col12\" >absences</th>        <th class=\"col_heading level0 col13\" >G1</th>        <th class=\"col_heading level0 col14\" >G2</th>        <th class=\"col_heading level0 col15\" >G3</th>    </tr></thead><tbody>\n",
              "                <tr>\n",
              "                        <th id=\"T_a31f3c52_45a3_11ec_b105_0242ac1c0002level0_row0\" class=\"row_heading level0 row0\" >age</th>\n",
              "                        <td id=\"T_a31f3c52_45a3_11ec_b105_0242ac1c0002row0_col0\" class=\"data row0 col0\" >1.000000</td>\n",
              "                        <td id=\"T_a31f3c52_45a3_11ec_b105_0242ac1c0002row0_col1\" class=\"data row0 col1\" >-0.161294</td>\n",
              "                        <td id=\"T_a31f3c52_45a3_11ec_b105_0242ac1c0002row0_col2\" class=\"data row0 col2\" >-0.149596</td>\n",
              "                        <td id=\"T_a31f3c52_45a3_11ec_b105_0242ac1c0002row0_col3\" class=\"data row0 col3\" >0.109804</td>\n",
              "                        <td id=\"T_a31f3c52_45a3_11ec_b105_0242ac1c0002row0_col4\" class=\"data row0 col4\" >0.031557</td>\n",
              "                        <td id=\"T_a31f3c52_45a3_11ec_b105_0242ac1c0002row0_col5\" class=\"data row0 col5\" >0.236464</td>\n",
              "                        <td id=\"T_a31f3c52_45a3_11ec_b105_0242ac1c0002row0_col6\" class=\"data row0 col6\" >0.031380</td>\n",
              "                        <td id=\"T_a31f3c52_45a3_11ec_b105_0242ac1c0002row0_col7\" class=\"data row0 col7\" >0.000302</td>\n",
              "                        <td id=\"T_a31f3c52_45a3_11ec_b105_0242ac1c0002row0_col8\" class=\"data row0 col8\" >0.140131</td>\n",
              "                        <td id=\"T_a31f3c52_45a3_11ec_b105_0242ac1c0002row0_col9\" class=\"data row0 col9\" >0.097073</td>\n",
              "                        <td id=\"T_a31f3c52_45a3_11ec_b105_0242ac1c0002row0_col10\" class=\"data row0 col10\" >0.132799</td>\n",
              "                        <td id=\"T_a31f3c52_45a3_11ec_b105_0242ac1c0002row0_col11\" class=\"data row0 col11\" >-0.075150</td>\n",
              "                        <td id=\"T_a31f3c52_45a3_11ec_b105_0242ac1c0002row0_col12\" class=\"data row0 col12\" >0.149276</td>\n",
              "                        <td id=\"T_a31f3c52_45a3_11ec_b105_0242ac1c0002row0_col13\" class=\"data row0 col13\" >-0.057630</td>\n",
              "                        <td id=\"T_a31f3c52_45a3_11ec_b105_0242ac1c0002row0_col14\" class=\"data row0 col14\" >-0.167622</td>\n",
              "                        <td id=\"T_a31f3c52_45a3_11ec_b105_0242ac1c0002row0_col15\" class=\"data row0 col15\" >-0.173438</td>\n",
              "            </tr>\n",
              "            <tr>\n",
              "                        <th id=\"T_a31f3c52_45a3_11ec_b105_0242ac1c0002level0_row1\" class=\"row_heading level0 row1\" >Medu</th>\n",
              "                        <td id=\"T_a31f3c52_45a3_11ec_b105_0242ac1c0002row1_col0\" class=\"data row1 col0\" >-0.161294</td>\n",
              "                        <td id=\"T_a31f3c52_45a3_11ec_b105_0242ac1c0002row1_col1\" class=\"data row1 col1\" >1.000000</td>\n",
              "                        <td id=\"T_a31f3c52_45a3_11ec_b105_0242ac1c0002row1_col2\" class=\"data row1 col2\" >0.631577</td>\n",
              "                        <td id=\"T_a31f3c52_45a3_11ec_b105_0242ac1c0002row1_col3\" class=\"data row1 col3\" >-0.147849</td>\n",
              "                        <td id=\"T_a31f3c52_45a3_11ec_b105_0242ac1c0002row1_col4\" class=\"data row1 col4\" >0.063498</td>\n",
              "                        <td id=\"T_a31f3c52_45a3_11ec_b105_0242ac1c0002row1_col5\" class=\"data row1 col5\" >-0.242373</td>\n",
              "                        <td id=\"T_a31f3c52_45a3_11ec_b105_0242ac1c0002row1_col6\" class=\"data row1 col6\" >0.012361</td>\n",
              "                        <td id=\"T_a31f3c52_45a3_11ec_b105_0242ac1c0002row1_col7\" class=\"data row1 col7\" >0.028493</td>\n",
              "                        <td id=\"T_a31f3c52_45a3_11ec_b105_0242ac1c0002row1_col8\" class=\"data row1 col8\" >0.064954</td>\n",
              "                        <td id=\"T_a31f3c52_45a3_11ec_b105_0242ac1c0002row1_col9\" class=\"data row1 col9\" >0.022729</td>\n",
              "                        <td id=\"T_a31f3c52_45a3_11ec_b105_0242ac1c0002row1_col10\" class=\"data row1 col10\" >-0.044332</td>\n",
              "                        <td id=\"T_a31f3c52_45a3_11ec_b105_0242ac1c0002row1_col11\" class=\"data row1 col11\" >-0.035686</td>\n",
              "                        <td id=\"T_a31f3c52_45a3_11ec_b105_0242ac1c0002row1_col12\" class=\"data row1 col12\" >0.097562</td>\n",
              "                        <td id=\"T_a31f3c52_45a3_11ec_b105_0242ac1c0002row1_col13\" class=\"data row1 col13\" >0.209662</td>\n",
              "                        <td id=\"T_a31f3c52_45a3_11ec_b105_0242ac1c0002row1_col14\" class=\"data row1 col14\" >0.236354</td>\n",
              "                        <td id=\"T_a31f3c52_45a3_11ec_b105_0242ac1c0002row1_col15\" class=\"data row1 col15\" >0.225036</td>\n",
              "            </tr>\n",
              "            <tr>\n",
              "                        <th id=\"T_a31f3c52_45a3_11ec_b105_0242ac1c0002level0_row2\" class=\"row_heading level0 row2\" >Fedu</th>\n",
              "                        <td id=\"T_a31f3c52_45a3_11ec_b105_0242ac1c0002row2_col0\" class=\"data row2 col0\" >-0.149596</td>\n",
              "                        <td id=\"T_a31f3c52_45a3_11ec_b105_0242ac1c0002row2_col1\" class=\"data row2 col1\" >0.631577</td>\n",
              "                        <td id=\"T_a31f3c52_45a3_11ec_b105_0242ac1c0002row2_col2\" class=\"data row2 col2\" >1.000000</td>\n",
              "                        <td id=\"T_a31f3c52_45a3_11ec_b105_0242ac1c0002row2_col3\" class=\"data row2 col3\" >-0.154454</td>\n",
              "                        <td id=\"T_a31f3c52_45a3_11ec_b105_0242ac1c0002row2_col4\" class=\"data row2 col4\" >0.018429</td>\n",
              "                        <td id=\"T_a31f3c52_45a3_11ec_b105_0242ac1c0002row2_col5\" class=\"data row2 col5\" >-0.236616</td>\n",
              "                        <td id=\"T_a31f3c52_45a3_11ec_b105_0242ac1c0002row2_col6\" class=\"data row2 col6\" >0.011400</td>\n",
              "                        <td id=\"T_a31f3c52_45a3_11ec_b105_0242ac1c0002row2_col7\" class=\"data row2 col7\" >-0.017132</td>\n",
              "                        <td id=\"T_a31f3c52_45a3_11ec_b105_0242ac1c0002row2_col8\" class=\"data row2 col8\" >0.047961</td>\n",
              "                        <td id=\"T_a31f3c52_45a3_11ec_b105_0242ac1c0002row2_col9\" class=\"data row2 col9\" >0.003994</td>\n",
              "                        <td id=\"T_a31f3c52_45a3_11ec_b105_0242ac1c0002row2_col10\" class=\"data row2 col10\" >-0.014486</td>\n",
              "                        <td id=\"T_a31f3c52_45a3_11ec_b105_0242ac1c0002row2_col11\" class=\"data row2 col11\" >0.018113</td>\n",
              "                        <td id=\"T_a31f3c52_45a3_11ec_b105_0242ac1c0002row2_col12\" class=\"data row2 col12\" >0.003568</td>\n",
              "                        <td id=\"T_a31f3c52_45a3_11ec_b105_0242ac1c0002row2_col13\" class=\"data row2 col13\" >0.194737</td>\n",
              "                        <td id=\"T_a31f3c52_45a3_11ec_b105_0242ac1c0002row2_col14\" class=\"data row2 col14\" >0.194844</td>\n",
              "                        <td id=\"T_a31f3c52_45a3_11ec_b105_0242ac1c0002row2_col15\" class=\"data row2 col15\" >0.170049</td>\n",
              "            </tr>\n",
              "            <tr>\n",
              "                        <th id=\"T_a31f3c52_45a3_11ec_b105_0242ac1c0002level0_row3\" class=\"row_heading level0 row3\" >traveltime</th>\n",
              "                        <td id=\"T_a31f3c52_45a3_11ec_b105_0242ac1c0002row3_col0\" class=\"data row3 col0\" >0.109804</td>\n",
              "                        <td id=\"T_a31f3c52_45a3_11ec_b105_0242ac1c0002row3_col1\" class=\"data row3 col1\" >-0.147849</td>\n",
              "                        <td id=\"T_a31f3c52_45a3_11ec_b105_0242ac1c0002row3_col2\" class=\"data row3 col2\" >-0.154454</td>\n",
              "                        <td id=\"T_a31f3c52_45a3_11ec_b105_0242ac1c0002row3_col3\" class=\"data row3 col3\" >1.000000</td>\n",
              "                        <td id=\"T_a31f3c52_45a3_11ec_b105_0242ac1c0002row3_col4\" class=\"data row3 col4\" >-0.105969</td>\n",
              "                        <td id=\"T_a31f3c52_45a3_11ec_b105_0242ac1c0002row3_col5\" class=\"data row3 col5\" >0.079917</td>\n",
              "                        <td id=\"T_a31f3c52_45a3_11ec_b105_0242ac1c0002row3_col6\" class=\"data row3 col6\" >-0.038656</td>\n",
              "                        <td id=\"T_a31f3c52_45a3_11ec_b105_0242ac1c0002row3_col7\" class=\"data row3 col7\" >-0.022279</td>\n",
              "                        <td id=\"T_a31f3c52_45a3_11ec_b105_0242ac1c0002row3_col8\" class=\"data row3 col8\" >-0.001430</td>\n",
              "                        <td id=\"T_a31f3c52_45a3_11ec_b105_0242ac1c0002row3_col9\" class=\"data row3 col9\" >0.066477</td>\n",
              "                        <td id=\"T_a31f3c52_45a3_11ec_b105_0242ac1c0002row3_col10\" class=\"data row3 col10\" >0.063654</td>\n",
              "                        <td id=\"T_a31f3c52_45a3_11ec_b105_0242ac1c0002row3_col11\" class=\"data row3 col11\" >-0.015452</td>\n",
              "                        <td id=\"T_a31f3c52_45a3_11ec_b105_0242ac1c0002row3_col12\" class=\"data row3 col12\" >-0.025061</td>\n",
              "                        <td id=\"T_a31f3c52_45a3_11ec_b105_0242ac1c0002row3_col13\" class=\"data row3 col13\" >-0.085501</td>\n",
              "                        <td id=\"T_a31f3c52_45a3_11ec_b105_0242ac1c0002row3_col14\" class=\"data row3 col14\" >-0.123795</td>\n",
              "                        <td id=\"T_a31f3c52_45a3_11ec_b105_0242ac1c0002row3_col15\" class=\"data row3 col15\" >-0.120530</td>\n",
              "            </tr>\n",
              "            <tr>\n",
              "                        <th id=\"T_a31f3c52_45a3_11ec_b105_0242ac1c0002level0_row4\" class=\"row_heading level0 row4\" >studytime</th>\n",
              "                        <td id=\"T_a31f3c52_45a3_11ec_b105_0242ac1c0002row4_col0\" class=\"data row4 col0\" >0.031557</td>\n",
              "                        <td id=\"T_a31f3c52_45a3_11ec_b105_0242ac1c0002row4_col1\" class=\"data row4 col1\" >0.063498</td>\n",
              "                        <td id=\"T_a31f3c52_45a3_11ec_b105_0242ac1c0002row4_col2\" class=\"data row4 col2\" >0.018429</td>\n",
              "                        <td id=\"T_a31f3c52_45a3_11ec_b105_0242ac1c0002row4_col3\" class=\"data row4 col3\" >-0.105969</td>\n",
              "                        <td id=\"T_a31f3c52_45a3_11ec_b105_0242ac1c0002row4_col4\" class=\"data row4 col4\" >1.000000</td>\n",
              "                        <td id=\"T_a31f3c52_45a3_11ec_b105_0242ac1c0002row4_col5\" class=\"data row4 col5\" >-0.157633</td>\n",
              "                        <td id=\"T_a31f3c52_45a3_11ec_b105_0242ac1c0002row4_col6\" class=\"data row4 col6\" >0.058141</td>\n",
              "                        <td id=\"T_a31f3c52_45a3_11ec_b105_0242ac1c0002row4_col7\" class=\"data row4 col7\" >-0.131321</td>\n",
              "                        <td id=\"T_a31f3c52_45a3_11ec_b105_0242ac1c0002row4_col8\" class=\"data row4 col8\" >-0.065979</td>\n",
              "                        <td id=\"T_a31f3c52_45a3_11ec_b105_0242ac1c0002row4_col9\" class=\"data row4 col9\" >-0.217904</td>\n",
              "                        <td id=\"T_a31f3c52_45a3_11ec_b105_0242ac1c0002row4_col10\" class=\"data row4 col10\" >-0.264021</td>\n",
              "                        <td id=\"T_a31f3c52_45a3_11ec_b105_0242ac1c0002row4_col11\" class=\"data row4 col11\" >-0.091497</td>\n",
              "                        <td id=\"T_a31f3c52_45a3_11ec_b105_0242ac1c0002row4_col12\" class=\"data row4 col12\" >-0.046180</td>\n",
              "                        <td id=\"T_a31f3c52_45a3_11ec_b105_0242ac1c0002row4_col13\" class=\"data row4 col13\" >0.162286</td>\n",
              "                        <td id=\"T_a31f3c52_45a3_11ec_b105_0242ac1c0002row4_col14\" class=\"data row4 col14\" >0.129160</td>\n",
              "                        <td id=\"T_a31f3c52_45a3_11ec_b105_0242ac1c0002row4_col15\" class=\"data row4 col15\" >0.105170</td>\n",
              "            </tr>\n",
              "            <tr>\n",
              "                        <th id=\"T_a31f3c52_45a3_11ec_b105_0242ac1c0002level0_row5\" class=\"row_heading level0 row5\" >failures</th>\n",
              "                        <td id=\"T_a31f3c52_45a3_11ec_b105_0242ac1c0002row5_col0\" class=\"data row5 col0\" >0.236464</td>\n",
              "                        <td id=\"T_a31f3c52_45a3_11ec_b105_0242ac1c0002row5_col1\" class=\"data row5 col1\" >-0.242373</td>\n",
              "                        <td id=\"T_a31f3c52_45a3_11ec_b105_0242ac1c0002row5_col2\" class=\"data row5 col2\" >-0.236616</td>\n",
              "                        <td id=\"T_a31f3c52_45a3_11ec_b105_0242ac1c0002row5_col3\" class=\"data row5 col3\" >0.079917</td>\n",
              "                        <td id=\"T_a31f3c52_45a3_11ec_b105_0242ac1c0002row5_col4\" class=\"data row5 col4\" >-0.157633</td>\n",
              "                        <td id=\"T_a31f3c52_45a3_11ec_b105_0242ac1c0002row5_col5\" class=\"data row5 col5\" >1.000000</td>\n",
              "                        <td id=\"T_a31f3c52_45a3_11ec_b105_0242ac1c0002row5_col6\" class=\"data row5 col6\" >-0.051389</td>\n",
              "                        <td id=\"T_a31f3c52_45a3_11ec_b105_0242ac1c0002row5_col7\" class=\"data row5 col7\" >0.088058</td>\n",
              "                        <td id=\"T_a31f3c52_45a3_11ec_b105_0242ac1c0002row5_col8\" class=\"data row5 col8\" >0.105419</td>\n",
              "                        <td id=\"T_a31f3c52_45a3_11ec_b105_0242ac1c0002row5_col9\" class=\"data row5 col9\" >0.187492</td>\n",
              "                        <td id=\"T_a31f3c52_45a3_11ec_b105_0242ac1c0002row5_col10\" class=\"data row5 col10\" >0.127912</td>\n",
              "                        <td id=\"T_a31f3c52_45a3_11ec_b105_0242ac1c0002row5_col11\" class=\"data row5 col11\" >0.079688</td>\n",
              "                        <td id=\"T_a31f3c52_45a3_11ec_b105_0242ac1c0002row5_col12\" class=\"data row5 col12\" >0.096028</td>\n",
              "                        <td id=\"T_a31f3c52_45a3_11ec_b105_0242ac1c0002row5_col13\" class=\"data row5 col13\" >-0.346052</td>\n",
              "                        <td id=\"T_a31f3c52_45a3_11ec_b105_0242ac1c0002row5_col14\" class=\"data row5 col14\" >-0.362357</td>\n",
              "                        <td id=\"T_a31f3c52_45a3_11ec_b105_0242ac1c0002row5_col15\" class=\"data row5 col15\" >-0.361224</td>\n",
              "            </tr>\n",
              "            <tr>\n",
              "                        <th id=\"T_a31f3c52_45a3_11ec_b105_0242ac1c0002level0_row6\" class=\"row_heading level0 row6\" >famrel</th>\n",
              "                        <td id=\"T_a31f3c52_45a3_11ec_b105_0242ac1c0002row6_col0\" class=\"data row6 col0\" >0.031380</td>\n",
              "                        <td id=\"T_a31f3c52_45a3_11ec_b105_0242ac1c0002row6_col1\" class=\"data row6 col1\" >0.012361</td>\n",
              "                        <td id=\"T_a31f3c52_45a3_11ec_b105_0242ac1c0002row6_col2\" class=\"data row6 col2\" >0.011400</td>\n",
              "                        <td id=\"T_a31f3c52_45a3_11ec_b105_0242ac1c0002row6_col3\" class=\"data row6 col3\" >-0.038656</td>\n",
              "                        <td id=\"T_a31f3c52_45a3_11ec_b105_0242ac1c0002row6_col4\" class=\"data row6 col4\" >0.058141</td>\n",
              "                        <td id=\"T_a31f3c52_45a3_11ec_b105_0242ac1c0002row6_col5\" class=\"data row6 col5\" >-0.051389</td>\n",
              "                        <td id=\"T_a31f3c52_45a3_11ec_b105_0242ac1c0002row6_col6\" class=\"data row6 col6\" >1.000000</td>\n",
              "                        <td id=\"T_a31f3c52_45a3_11ec_b105_0242ac1c0002row6_col7\" class=\"data row6 col7\" >0.143142</td>\n",
              "                        <td id=\"T_a31f3c52_45a3_11ec_b105_0242ac1c0002row6_col8\" class=\"data row6 col8\" >0.063549</td>\n",
              "                        <td id=\"T_a31f3c52_45a3_11ec_b105_0242ac1c0002row6_col9\" class=\"data row6 col9\" >-0.106338</td>\n",
              "                        <td id=\"T_a31f3c52_45a3_11ec_b105_0242ac1c0002row6_col10\" class=\"data row6 col10\" >-0.116060</td>\n",
              "                        <td id=\"T_a31f3c52_45a3_11ec_b105_0242ac1c0002row6_col11\" class=\"data row6 col11\" >0.085341</td>\n",
              "                        <td id=\"T_a31f3c52_45a3_11ec_b105_0242ac1c0002row6_col12\" class=\"data row6 col12\" >-0.086577</td>\n",
              "                        <td id=\"T_a31f3c52_45a3_11ec_b105_0242ac1c0002row6_col13\" class=\"data row6 col13\" >0.026433</td>\n",
              "                        <td id=\"T_a31f3c52_45a3_11ec_b105_0242ac1c0002row6_col14\" class=\"data row6 col14\" >0.008165</td>\n",
              "                        <td id=\"T_a31f3c52_45a3_11ec_b105_0242ac1c0002row6_col15\" class=\"data row6 col15\" >0.054977</td>\n",
              "            </tr>\n",
              "            <tr>\n",
              "                        <th id=\"T_a31f3c52_45a3_11ec_b105_0242ac1c0002level0_row7\" class=\"row_heading level0 row7\" >freetime</th>\n",
              "                        <td id=\"T_a31f3c52_45a3_11ec_b105_0242ac1c0002row7_col0\" class=\"data row7 col0\" >0.000302</td>\n",
              "                        <td id=\"T_a31f3c52_45a3_11ec_b105_0242ac1c0002row7_col1\" class=\"data row7 col1\" >0.028493</td>\n",
              "                        <td id=\"T_a31f3c52_45a3_11ec_b105_0242ac1c0002row7_col2\" class=\"data row7 col2\" >-0.017132</td>\n",
              "                        <td id=\"T_a31f3c52_45a3_11ec_b105_0242ac1c0002row7_col3\" class=\"data row7 col3\" >-0.022279</td>\n",
              "                        <td id=\"T_a31f3c52_45a3_11ec_b105_0242ac1c0002row7_col4\" class=\"data row7 col4\" >-0.131321</td>\n",
              "                        <td id=\"T_a31f3c52_45a3_11ec_b105_0242ac1c0002row7_col5\" class=\"data row7 col5\" >0.088058</td>\n",
              "                        <td id=\"T_a31f3c52_45a3_11ec_b105_0242ac1c0002row7_col6\" class=\"data row7 col6\" >0.143142</td>\n",
              "                        <td id=\"T_a31f3c52_45a3_11ec_b105_0242ac1c0002row7_col7\" class=\"data row7 col7\" >1.000000</td>\n",
              "                        <td id=\"T_a31f3c52_45a3_11ec_b105_0242ac1c0002row7_col8\" class=\"data row7 col8\" >0.285182</td>\n",
              "                        <td id=\"T_a31f3c52_45a3_11ec_b105_0242ac1c0002row7_col9\" class=\"data row7 col9\" >0.194223</td>\n",
              "                        <td id=\"T_a31f3c52_45a3_11ec_b105_0242ac1c0002row7_col10\" class=\"data row7 col10\" >0.130246</td>\n",
              "                        <td id=\"T_a31f3c52_45a3_11ec_b105_0242ac1c0002row7_col11\" class=\"data row7 col11\" >0.088975</td>\n",
              "                        <td id=\"T_a31f3c52_45a3_11ec_b105_0242ac1c0002row7_col12\" class=\"data row7 col12\" >0.013397</td>\n",
              "                        <td id=\"T_a31f3c52_45a3_11ec_b105_0242ac1c0002row7_col13\" class=\"data row7 col13\" >0.006973</td>\n",
              "                        <td id=\"T_a31f3c52_45a3_11ec_b105_0242ac1c0002row7_col14\" class=\"data row7 col14\" >-0.016765</td>\n",
              "                        <td id=\"T_a31f3c52_45a3_11ec_b105_0242ac1c0002row7_col15\" class=\"data row7 col15\" >-0.004994</td>\n",
              "            </tr>\n",
              "            <tr>\n",
              "                        <th id=\"T_a31f3c52_45a3_11ec_b105_0242ac1c0002level0_row8\" class=\"row_heading level0 row8\" >goout</th>\n",
              "                        <td id=\"T_a31f3c52_45a3_11ec_b105_0242ac1c0002row8_col0\" class=\"data row8 col0\" >0.140131</td>\n",
              "                        <td id=\"T_a31f3c52_45a3_11ec_b105_0242ac1c0002row8_col1\" class=\"data row8 col1\" >0.064954</td>\n",
              "                        <td id=\"T_a31f3c52_45a3_11ec_b105_0242ac1c0002row8_col2\" class=\"data row8 col2\" >0.047961</td>\n",
              "                        <td id=\"T_a31f3c52_45a3_11ec_b105_0242ac1c0002row8_col3\" class=\"data row8 col3\" >-0.001430</td>\n",
              "                        <td id=\"T_a31f3c52_45a3_11ec_b105_0242ac1c0002row8_col4\" class=\"data row8 col4\" >-0.065979</td>\n",
              "                        <td id=\"T_a31f3c52_45a3_11ec_b105_0242ac1c0002row8_col5\" class=\"data row8 col5\" >0.105419</td>\n",
              "                        <td id=\"T_a31f3c52_45a3_11ec_b105_0242ac1c0002row8_col6\" class=\"data row8 col6\" >0.063549</td>\n",
              "                        <td id=\"T_a31f3c52_45a3_11ec_b105_0242ac1c0002row8_col7\" class=\"data row8 col7\" >0.285182</td>\n",
              "                        <td id=\"T_a31f3c52_45a3_11ec_b105_0242ac1c0002row8_col8\" class=\"data row8 col8\" >1.000000</td>\n",
              "                        <td id=\"T_a31f3c52_45a3_11ec_b105_0242ac1c0002row8_col9\" class=\"data row8 col9\" >0.255146</td>\n",
              "                        <td id=\"T_a31f3c52_45a3_11ec_b105_0242ac1c0002row8_col10\" class=\"data row8 col10\" >0.393333</td>\n",
              "                        <td id=\"T_a31f3c52_45a3_11ec_b105_0242ac1c0002row8_col11\" class=\"data row8 col11\" >-0.018541</td>\n",
              "                        <td id=\"T_a31f3c52_45a3_11ec_b105_0242ac1c0002row8_col12\" class=\"data row8 col12\" >0.133280</td>\n",
              "                        <td id=\"T_a31f3c52_45a3_11ec_b105_0242ac1c0002row8_col13\" class=\"data row8 col13\" >-0.151636</td>\n",
              "                        <td id=\"T_a31f3c52_45a3_11ec_b105_0242ac1c0002row8_col14\" class=\"data row8 col14\" >-0.160985</td>\n",
              "                        <td id=\"T_a31f3c52_45a3_11ec_b105_0242ac1c0002row8_col15\" class=\"data row8 col15\" >-0.166119</td>\n",
              "            </tr>\n",
              "            <tr>\n",
              "                        <th id=\"T_a31f3c52_45a3_11ec_b105_0242ac1c0002level0_row9\" class=\"row_heading level0 row9\" >Dalc</th>\n",
              "                        <td id=\"T_a31f3c52_45a3_11ec_b105_0242ac1c0002row9_col0\" class=\"data row9 col0\" >0.097073</td>\n",
              "                        <td id=\"T_a31f3c52_45a3_11ec_b105_0242ac1c0002row9_col1\" class=\"data row9 col1\" >0.022729</td>\n",
              "                        <td id=\"T_a31f3c52_45a3_11ec_b105_0242ac1c0002row9_col2\" class=\"data row9 col2\" >0.003994</td>\n",
              "                        <td id=\"T_a31f3c52_45a3_11ec_b105_0242ac1c0002row9_col3\" class=\"data row9 col3\" >0.066477</td>\n",
              "                        <td id=\"T_a31f3c52_45a3_11ec_b105_0242ac1c0002row9_col4\" class=\"data row9 col4\" >-0.217904</td>\n",
              "                        <td id=\"T_a31f3c52_45a3_11ec_b105_0242ac1c0002row9_col5\" class=\"data row9 col5\" >0.187492</td>\n",
              "                        <td id=\"T_a31f3c52_45a3_11ec_b105_0242ac1c0002row9_col6\" class=\"data row9 col6\" >-0.106338</td>\n",
              "                        <td id=\"T_a31f3c52_45a3_11ec_b105_0242ac1c0002row9_col7\" class=\"data row9 col7\" >0.194223</td>\n",
              "                        <td id=\"T_a31f3c52_45a3_11ec_b105_0242ac1c0002row9_col8\" class=\"data row9 col8\" >0.255146</td>\n",
              "                        <td id=\"T_a31f3c52_45a3_11ec_b105_0242ac1c0002row9_col9\" class=\"data row9 col9\" >1.000000</td>\n",
              "                        <td id=\"T_a31f3c52_45a3_11ec_b105_0242ac1c0002row9_col10\" class=\"data row9 col10\" >0.639906</td>\n",
              "                        <td id=\"T_a31f3c52_45a3_11ec_b105_0242ac1c0002row9_col11\" class=\"data row9 col11\" >0.095139</td>\n",
              "                        <td id=\"T_a31f3c52_45a3_11ec_b105_0242ac1c0002row9_col12\" class=\"data row9 col12\" >0.129651</td>\n",
              "                        <td id=\"T_a31f3c52_45a3_11ec_b105_0242ac1c0002row9_col13\" class=\"data row9 col13\" >-0.111438</td>\n",
              "                        <td id=\"T_a31f3c52_45a3_11ec_b105_0242ac1c0002row9_col14\" class=\"data row9 col14\" >-0.110086</td>\n",
              "                        <td id=\"T_a31f3c52_45a3_11ec_b105_0242ac1c0002row9_col15\" class=\"data row9 col15\" >-0.120944</td>\n",
              "            </tr>\n",
              "            <tr>\n",
              "                        <th id=\"T_a31f3c52_45a3_11ec_b105_0242ac1c0002level0_row10\" class=\"row_heading level0 row10\" >Walc</th>\n",
              "                        <td id=\"T_a31f3c52_45a3_11ec_b105_0242ac1c0002row10_col0\" class=\"data row10 col0\" >0.132799</td>\n",
              "                        <td id=\"T_a31f3c52_45a3_11ec_b105_0242ac1c0002row10_col1\" class=\"data row10 col1\" >-0.044332</td>\n",
              "                        <td id=\"T_a31f3c52_45a3_11ec_b105_0242ac1c0002row10_col2\" class=\"data row10 col2\" >-0.014486</td>\n",
              "                        <td id=\"T_a31f3c52_45a3_11ec_b105_0242ac1c0002row10_col3\" class=\"data row10 col3\" >0.063654</td>\n",
              "                        <td id=\"T_a31f3c52_45a3_11ec_b105_0242ac1c0002row10_col4\" class=\"data row10 col4\" >-0.264021</td>\n",
              "                        <td id=\"T_a31f3c52_45a3_11ec_b105_0242ac1c0002row10_col5\" class=\"data row10 col5\" >0.127912</td>\n",
              "                        <td id=\"T_a31f3c52_45a3_11ec_b105_0242ac1c0002row10_col6\" class=\"data row10 col6\" >-0.116060</td>\n",
              "                        <td id=\"T_a31f3c52_45a3_11ec_b105_0242ac1c0002row10_col7\" class=\"data row10 col7\" >0.130246</td>\n",
              "                        <td id=\"T_a31f3c52_45a3_11ec_b105_0242ac1c0002row10_col8\" class=\"data row10 col8\" >0.393333</td>\n",
              "                        <td id=\"T_a31f3c52_45a3_11ec_b105_0242ac1c0002row10_col9\" class=\"data row10 col9\" >0.639906</td>\n",
              "                        <td id=\"T_a31f3c52_45a3_11ec_b105_0242ac1c0002row10_col10\" class=\"data row10 col10\" >1.000000</td>\n",
              "                        <td id=\"T_a31f3c52_45a3_11ec_b105_0242ac1c0002row10_col11\" class=\"data row10 col11\" >0.093625</td>\n",
              "                        <td id=\"T_a31f3c52_45a3_11ec_b105_0242ac1c0002row10_col12\" class=\"data row10 col12\" >0.208508</td>\n",
              "                        <td id=\"T_a31f3c52_45a3_11ec_b105_0242ac1c0002row10_col13\" class=\"data row10 col13\" >-0.108368</td>\n",
              "                        <td id=\"T_a31f3c52_45a3_11ec_b105_0242ac1c0002row10_col14\" class=\"data row10 col14\" >-0.109144</td>\n",
              "                        <td id=\"T_a31f3c52_45a3_11ec_b105_0242ac1c0002row10_col15\" class=\"data row10 col15\" >-0.104459</td>\n",
              "            </tr>\n",
              "            <tr>\n",
              "                        <th id=\"T_a31f3c52_45a3_11ec_b105_0242ac1c0002level0_row11\" class=\"row_heading level0 row11\" >health</th>\n",
              "                        <td id=\"T_a31f3c52_45a3_11ec_b105_0242ac1c0002row11_col0\" class=\"data row11 col0\" >-0.075150</td>\n",
              "                        <td id=\"T_a31f3c52_45a3_11ec_b105_0242ac1c0002row11_col1\" class=\"data row11 col1\" >-0.035686</td>\n",
              "                        <td id=\"T_a31f3c52_45a3_11ec_b105_0242ac1c0002row11_col2\" class=\"data row11 col2\" >0.018113</td>\n",
              "                        <td id=\"T_a31f3c52_45a3_11ec_b105_0242ac1c0002row11_col3\" class=\"data row11 col3\" >-0.015452</td>\n",
              "                        <td id=\"T_a31f3c52_45a3_11ec_b105_0242ac1c0002row11_col4\" class=\"data row11 col4\" >-0.091497</td>\n",
              "                        <td id=\"T_a31f3c52_45a3_11ec_b105_0242ac1c0002row11_col5\" class=\"data row11 col5\" >0.079688</td>\n",
              "                        <td id=\"T_a31f3c52_45a3_11ec_b105_0242ac1c0002row11_col6\" class=\"data row11 col6\" >0.085341</td>\n",
              "                        <td id=\"T_a31f3c52_45a3_11ec_b105_0242ac1c0002row11_col7\" class=\"data row11 col7\" >0.088975</td>\n",
              "                        <td id=\"T_a31f3c52_45a3_11ec_b105_0242ac1c0002row11_col8\" class=\"data row11 col8\" >-0.018541</td>\n",
              "                        <td id=\"T_a31f3c52_45a3_11ec_b105_0242ac1c0002row11_col9\" class=\"data row11 col9\" >0.095139</td>\n",
              "                        <td id=\"T_a31f3c52_45a3_11ec_b105_0242ac1c0002row11_col10\" class=\"data row11 col10\" >0.093625</td>\n",
              "                        <td id=\"T_a31f3c52_45a3_11ec_b105_0242ac1c0002row11_col11\" class=\"data row11 col11\" >1.000000</td>\n",
              "                        <td id=\"T_a31f3c52_45a3_11ec_b105_0242ac1c0002row11_col12\" class=\"data row11 col12\" >-0.070132</td>\n",
              "                        <td id=\"T_a31f3c52_45a3_11ec_b105_0242ac1c0002row11_col13\" class=\"data row11 col13\" >-0.052224</td>\n",
              "                        <td id=\"T_a31f3c52_45a3_11ec_b105_0242ac1c0002row11_col14\" class=\"data row11 col14\" >-0.050900</td>\n",
              "                        <td id=\"T_a31f3c52_45a3_11ec_b105_0242ac1c0002row11_col15\" class=\"data row11 col15\" >-0.047790</td>\n",
              "            </tr>\n",
              "            <tr>\n",
              "                        <th id=\"T_a31f3c52_45a3_11ec_b105_0242ac1c0002level0_row12\" class=\"row_heading level0 row12\" >absences</th>\n",
              "                        <td id=\"T_a31f3c52_45a3_11ec_b105_0242ac1c0002row12_col0\" class=\"data row12 col0\" >0.149276</td>\n",
              "                        <td id=\"T_a31f3c52_45a3_11ec_b105_0242ac1c0002row12_col1\" class=\"data row12 col1\" >0.097562</td>\n",
              "                        <td id=\"T_a31f3c52_45a3_11ec_b105_0242ac1c0002row12_col2\" class=\"data row12 col2\" >0.003568</td>\n",
              "                        <td id=\"T_a31f3c52_45a3_11ec_b105_0242ac1c0002row12_col3\" class=\"data row12 col3\" >-0.025061</td>\n",
              "                        <td id=\"T_a31f3c52_45a3_11ec_b105_0242ac1c0002row12_col4\" class=\"data row12 col4\" >-0.046180</td>\n",
              "                        <td id=\"T_a31f3c52_45a3_11ec_b105_0242ac1c0002row12_col5\" class=\"data row12 col5\" >0.096028</td>\n",
              "                        <td id=\"T_a31f3c52_45a3_11ec_b105_0242ac1c0002row12_col6\" class=\"data row12 col6\" >-0.086577</td>\n",
              "                        <td id=\"T_a31f3c52_45a3_11ec_b105_0242ac1c0002row12_col7\" class=\"data row12 col7\" >0.013397</td>\n",
              "                        <td id=\"T_a31f3c52_45a3_11ec_b105_0242ac1c0002row12_col8\" class=\"data row12 col8\" >0.133280</td>\n",
              "                        <td id=\"T_a31f3c52_45a3_11ec_b105_0242ac1c0002row12_col9\" class=\"data row12 col9\" >0.129651</td>\n",
              "                        <td id=\"T_a31f3c52_45a3_11ec_b105_0242ac1c0002row12_col10\" class=\"data row12 col10\" >0.208508</td>\n",
              "                        <td id=\"T_a31f3c52_45a3_11ec_b105_0242ac1c0002row12_col11\" class=\"data row12 col11\" >-0.070132</td>\n",
              "                        <td id=\"T_a31f3c52_45a3_11ec_b105_0242ac1c0002row12_col12\" class=\"data row12 col12\" >1.000000</td>\n",
              "                        <td id=\"T_a31f3c52_45a3_11ec_b105_0242ac1c0002row12_col13\" class=\"data row12 col13\" >0.004479</td>\n",
              "                        <td id=\"T_a31f3c52_45a3_11ec_b105_0242ac1c0002row12_col14\" class=\"data row12 col14\" >-0.033600</td>\n",
              "                        <td id=\"T_a31f3c52_45a3_11ec_b105_0242ac1c0002row12_col15\" class=\"data row12 col15\" >0.017731</td>\n",
              "            </tr>\n",
              "            <tr>\n",
              "                        <th id=\"T_a31f3c52_45a3_11ec_b105_0242ac1c0002level0_row13\" class=\"row_heading level0 row13\" >G1</th>\n",
              "                        <td id=\"T_a31f3c52_45a3_11ec_b105_0242ac1c0002row13_col0\" class=\"data row13 col0\" >-0.057630</td>\n",
              "                        <td id=\"T_a31f3c52_45a3_11ec_b105_0242ac1c0002row13_col1\" class=\"data row13 col1\" >0.209662</td>\n",
              "                        <td id=\"T_a31f3c52_45a3_11ec_b105_0242ac1c0002row13_col2\" class=\"data row13 col2\" >0.194737</td>\n",
              "                        <td id=\"T_a31f3c52_45a3_11ec_b105_0242ac1c0002row13_col3\" class=\"data row13 col3\" >-0.085501</td>\n",
              "                        <td id=\"T_a31f3c52_45a3_11ec_b105_0242ac1c0002row13_col4\" class=\"data row13 col4\" >0.162286</td>\n",
              "                        <td id=\"T_a31f3c52_45a3_11ec_b105_0242ac1c0002row13_col5\" class=\"data row13 col5\" >-0.346052</td>\n",
              "                        <td id=\"T_a31f3c52_45a3_11ec_b105_0242ac1c0002row13_col6\" class=\"data row13 col6\" >0.026433</td>\n",
              "                        <td id=\"T_a31f3c52_45a3_11ec_b105_0242ac1c0002row13_col7\" class=\"data row13 col7\" >0.006973</td>\n",
              "                        <td id=\"T_a31f3c52_45a3_11ec_b105_0242ac1c0002row13_col8\" class=\"data row13 col8\" >-0.151636</td>\n",
              "                        <td id=\"T_a31f3c52_45a3_11ec_b105_0242ac1c0002row13_col9\" class=\"data row13 col9\" >-0.111438</td>\n",
              "                        <td id=\"T_a31f3c52_45a3_11ec_b105_0242ac1c0002row13_col10\" class=\"data row13 col10\" >-0.108368</td>\n",
              "                        <td id=\"T_a31f3c52_45a3_11ec_b105_0242ac1c0002row13_col11\" class=\"data row13 col11\" >-0.052224</td>\n",
              "                        <td id=\"T_a31f3c52_45a3_11ec_b105_0242ac1c0002row13_col12\" class=\"data row13 col12\" >0.004479</td>\n",
              "                        <td id=\"T_a31f3c52_45a3_11ec_b105_0242ac1c0002row13_col13\" class=\"data row13 col13\" >1.000000</td>\n",
              "                        <td id=\"T_a31f3c52_45a3_11ec_b105_0242ac1c0002row13_col14\" class=\"data row13 col14\" >0.894792</td>\n",
              "                        <td id=\"T_a31f3c52_45a3_11ec_b105_0242ac1c0002row13_col15\" class=\"data row13 col15\" >0.878001</td>\n",
              "            </tr>\n",
              "            <tr>\n",
              "                        <th id=\"T_a31f3c52_45a3_11ec_b105_0242ac1c0002level0_row14\" class=\"row_heading level0 row14\" >G2</th>\n",
              "                        <td id=\"T_a31f3c52_45a3_11ec_b105_0242ac1c0002row14_col0\" class=\"data row14 col0\" >-0.167622</td>\n",
              "                        <td id=\"T_a31f3c52_45a3_11ec_b105_0242ac1c0002row14_col1\" class=\"data row14 col1\" >0.236354</td>\n",
              "                        <td id=\"T_a31f3c52_45a3_11ec_b105_0242ac1c0002row14_col2\" class=\"data row14 col2\" >0.194844</td>\n",
              "                        <td id=\"T_a31f3c52_45a3_11ec_b105_0242ac1c0002row14_col3\" class=\"data row14 col3\" >-0.123795</td>\n",
              "                        <td id=\"T_a31f3c52_45a3_11ec_b105_0242ac1c0002row14_col4\" class=\"data row14 col4\" >0.129160</td>\n",
              "                        <td id=\"T_a31f3c52_45a3_11ec_b105_0242ac1c0002row14_col5\" class=\"data row14 col5\" >-0.362357</td>\n",
              "                        <td id=\"T_a31f3c52_45a3_11ec_b105_0242ac1c0002row14_col6\" class=\"data row14 col6\" >0.008165</td>\n",
              "                        <td id=\"T_a31f3c52_45a3_11ec_b105_0242ac1c0002row14_col7\" class=\"data row14 col7\" >-0.016765</td>\n",
              "                        <td id=\"T_a31f3c52_45a3_11ec_b105_0242ac1c0002row14_col8\" class=\"data row14 col8\" >-0.160985</td>\n",
              "                        <td id=\"T_a31f3c52_45a3_11ec_b105_0242ac1c0002row14_col9\" class=\"data row14 col9\" >-0.110086</td>\n",
              "                        <td id=\"T_a31f3c52_45a3_11ec_b105_0242ac1c0002row14_col10\" class=\"data row14 col10\" >-0.109144</td>\n",
              "                        <td id=\"T_a31f3c52_45a3_11ec_b105_0242ac1c0002row14_col11\" class=\"data row14 col11\" >-0.050900</td>\n",
              "                        <td id=\"T_a31f3c52_45a3_11ec_b105_0242ac1c0002row14_col12\" class=\"data row14 col12\" >-0.033600</td>\n",
              "                        <td id=\"T_a31f3c52_45a3_11ec_b105_0242ac1c0002row14_col13\" class=\"data row14 col13\" >0.894792</td>\n",
              "                        <td id=\"T_a31f3c52_45a3_11ec_b105_0242ac1c0002row14_col14\" class=\"data row14 col14\" >1.000000</td>\n",
              "                        <td id=\"T_a31f3c52_45a3_11ec_b105_0242ac1c0002row14_col15\" class=\"data row14 col15\" >0.957125</td>\n",
              "            </tr>\n",
              "            <tr>\n",
              "                        <th id=\"T_a31f3c52_45a3_11ec_b105_0242ac1c0002level0_row15\" class=\"row_heading level0 row15\" >G3</th>\n",
              "                        <td id=\"T_a31f3c52_45a3_11ec_b105_0242ac1c0002row15_col0\" class=\"data row15 col0\" >-0.173438</td>\n",
              "                        <td id=\"T_a31f3c52_45a3_11ec_b105_0242ac1c0002row15_col1\" class=\"data row15 col1\" >0.225036</td>\n",
              "                        <td id=\"T_a31f3c52_45a3_11ec_b105_0242ac1c0002row15_col2\" class=\"data row15 col2\" >0.170049</td>\n",
              "                        <td id=\"T_a31f3c52_45a3_11ec_b105_0242ac1c0002row15_col3\" class=\"data row15 col3\" >-0.120530</td>\n",
              "                        <td id=\"T_a31f3c52_45a3_11ec_b105_0242ac1c0002row15_col4\" class=\"data row15 col4\" >0.105170</td>\n",
              "                        <td id=\"T_a31f3c52_45a3_11ec_b105_0242ac1c0002row15_col5\" class=\"data row15 col5\" >-0.361224</td>\n",
              "                        <td id=\"T_a31f3c52_45a3_11ec_b105_0242ac1c0002row15_col6\" class=\"data row15 col6\" >0.054977</td>\n",
              "                        <td id=\"T_a31f3c52_45a3_11ec_b105_0242ac1c0002row15_col7\" class=\"data row15 col7\" >-0.004994</td>\n",
              "                        <td id=\"T_a31f3c52_45a3_11ec_b105_0242ac1c0002row15_col8\" class=\"data row15 col8\" >-0.166119</td>\n",
              "                        <td id=\"T_a31f3c52_45a3_11ec_b105_0242ac1c0002row15_col9\" class=\"data row15 col9\" >-0.120944</td>\n",
              "                        <td id=\"T_a31f3c52_45a3_11ec_b105_0242ac1c0002row15_col10\" class=\"data row15 col10\" >-0.104459</td>\n",
              "                        <td id=\"T_a31f3c52_45a3_11ec_b105_0242ac1c0002row15_col11\" class=\"data row15 col11\" >-0.047790</td>\n",
              "                        <td id=\"T_a31f3c52_45a3_11ec_b105_0242ac1c0002row15_col12\" class=\"data row15 col12\" >0.017731</td>\n",
              "                        <td id=\"T_a31f3c52_45a3_11ec_b105_0242ac1c0002row15_col13\" class=\"data row15 col13\" >0.878001</td>\n",
              "                        <td id=\"T_a31f3c52_45a3_11ec_b105_0242ac1c0002row15_col14\" class=\"data row15 col14\" >0.957125</td>\n",
              "                        <td id=\"T_a31f3c52_45a3_11ec_b105_0242ac1c0002row15_col15\" class=\"data row15 col15\" >1.000000</td>\n",
              "            </tr>\n",
              "    </tbody></table>"
            ],
            "text/plain": [
              "<pandas.io.formats.style.Styler at 0x7f6fa914d610>"
            ]
          },
          "metadata": {},
          "execution_count": 22
        }
      ]
    },
    {
      "cell_type": "code",
      "metadata": {
        "colab": {
          "base_uri": "https://localhost:8080/",
          "height": 314
        },
        "id": "sMZDEegZeYHi",
        "outputId": "a9cee589-8278-4c42-d8f0-2b0fd36b98d7"
      },
      "source": [
        "df.describe()"
      ],
      "execution_count": 23,
      "outputs": [
        {
          "output_type": "execute_result",
          "data": {
            "text/html": [
              "<div>\n",
              "<style scoped>\n",
              "    .dataframe tbody tr th:only-of-type {\n",
              "        vertical-align: middle;\n",
              "    }\n",
              "\n",
              "    .dataframe tbody tr th {\n",
              "        vertical-align: top;\n",
              "    }\n",
              "\n",
              "    .dataframe thead th {\n",
              "        text-align: right;\n",
              "    }\n",
              "</style>\n",
              "<table border=\"1\" class=\"dataframe\">\n",
              "  <thead>\n",
              "    <tr style=\"text-align: right;\">\n",
              "      <th></th>\n",
              "      <th>age</th>\n",
              "      <th>Medu</th>\n",
              "      <th>Fedu</th>\n",
              "      <th>traveltime</th>\n",
              "      <th>studytime</th>\n",
              "      <th>failures</th>\n",
              "      <th>famrel</th>\n",
              "      <th>freetime</th>\n",
              "      <th>goout</th>\n",
              "      <th>Dalc</th>\n",
              "      <th>Walc</th>\n",
              "      <th>health</th>\n",
              "      <th>absences</th>\n",
              "      <th>G1</th>\n",
              "      <th>G2</th>\n",
              "      <th>G3</th>\n",
              "    </tr>\n",
              "  </thead>\n",
              "  <tbody>\n",
              "    <tr>\n",
              "      <th>count</th>\n",
              "      <td>395.000000</td>\n",
              "      <td>395.000000</td>\n",
              "      <td>395.000000</td>\n",
              "      <td>395.000000</td>\n",
              "      <td>395.000000</td>\n",
              "      <td>395.000000</td>\n",
              "      <td>395.000000</td>\n",
              "      <td>395.000000</td>\n",
              "      <td>395.000000</td>\n",
              "      <td>395.000000</td>\n",
              "      <td>395.000000</td>\n",
              "      <td>395.000000</td>\n",
              "      <td>395.000000</td>\n",
              "      <td>395.000000</td>\n",
              "      <td>395.000000</td>\n",
              "      <td>395.000000</td>\n",
              "    </tr>\n",
              "    <tr>\n",
              "      <th>mean</th>\n",
              "      <td>16.696203</td>\n",
              "      <td>2.749367</td>\n",
              "      <td>2.521519</td>\n",
              "      <td>1.448101</td>\n",
              "      <td>2.035443</td>\n",
              "      <td>0.334177</td>\n",
              "      <td>3.944304</td>\n",
              "      <td>3.235443</td>\n",
              "      <td>3.108861</td>\n",
              "      <td>1.481013</td>\n",
              "      <td>2.291139</td>\n",
              "      <td>3.554430</td>\n",
              "      <td>5.708861</td>\n",
              "      <td>10.908861</td>\n",
              "      <td>10.713924</td>\n",
              "      <td>10.415190</td>\n",
              "    </tr>\n",
              "    <tr>\n",
              "      <th>std</th>\n",
              "      <td>1.276043</td>\n",
              "      <td>1.094735</td>\n",
              "      <td>1.088201</td>\n",
              "      <td>0.697505</td>\n",
              "      <td>0.839240</td>\n",
              "      <td>0.743651</td>\n",
              "      <td>0.896659</td>\n",
              "      <td>0.998862</td>\n",
              "      <td>1.113278</td>\n",
              "      <td>0.890741</td>\n",
              "      <td>1.287897</td>\n",
              "      <td>1.390303</td>\n",
              "      <td>8.003096</td>\n",
              "      <td>3.319195</td>\n",
              "      <td>3.761505</td>\n",
              "      <td>4.581443</td>\n",
              "    </tr>\n",
              "    <tr>\n",
              "      <th>min</th>\n",
              "      <td>15.000000</td>\n",
              "      <td>0.000000</td>\n",
              "      <td>0.000000</td>\n",
              "      <td>1.000000</td>\n",
              "      <td>1.000000</td>\n",
              "      <td>0.000000</td>\n",
              "      <td>1.000000</td>\n",
              "      <td>1.000000</td>\n",
              "      <td>1.000000</td>\n",
              "      <td>1.000000</td>\n",
              "      <td>1.000000</td>\n",
              "      <td>1.000000</td>\n",
              "      <td>0.000000</td>\n",
              "      <td>3.000000</td>\n",
              "      <td>0.000000</td>\n",
              "      <td>0.000000</td>\n",
              "    </tr>\n",
              "    <tr>\n",
              "      <th>25%</th>\n",
              "      <td>16.000000</td>\n",
              "      <td>2.000000</td>\n",
              "      <td>2.000000</td>\n",
              "      <td>1.000000</td>\n",
              "      <td>1.000000</td>\n",
              "      <td>0.000000</td>\n",
              "      <td>4.000000</td>\n",
              "      <td>3.000000</td>\n",
              "      <td>2.000000</td>\n",
              "      <td>1.000000</td>\n",
              "      <td>1.000000</td>\n",
              "      <td>3.000000</td>\n",
              "      <td>0.000000</td>\n",
              "      <td>8.000000</td>\n",
              "      <td>9.000000</td>\n",
              "      <td>8.000000</td>\n",
              "    </tr>\n",
              "    <tr>\n",
              "      <th>50%</th>\n",
              "      <td>17.000000</td>\n",
              "      <td>3.000000</td>\n",
              "      <td>2.000000</td>\n",
              "      <td>1.000000</td>\n",
              "      <td>2.000000</td>\n",
              "      <td>0.000000</td>\n",
              "      <td>4.000000</td>\n",
              "      <td>3.000000</td>\n",
              "      <td>3.000000</td>\n",
              "      <td>1.000000</td>\n",
              "      <td>2.000000</td>\n",
              "      <td>4.000000</td>\n",
              "      <td>4.000000</td>\n",
              "      <td>11.000000</td>\n",
              "      <td>11.000000</td>\n",
              "      <td>11.000000</td>\n",
              "    </tr>\n",
              "    <tr>\n",
              "      <th>75%</th>\n",
              "      <td>18.000000</td>\n",
              "      <td>4.000000</td>\n",
              "      <td>3.000000</td>\n",
              "      <td>2.000000</td>\n",
              "      <td>2.000000</td>\n",
              "      <td>0.000000</td>\n",
              "      <td>5.000000</td>\n",
              "      <td>4.000000</td>\n",
              "      <td>4.000000</td>\n",
              "      <td>2.000000</td>\n",
              "      <td>3.000000</td>\n",
              "      <td>5.000000</td>\n",
              "      <td>8.000000</td>\n",
              "      <td>13.000000</td>\n",
              "      <td>13.000000</td>\n",
              "      <td>14.000000</td>\n",
              "    </tr>\n",
              "    <tr>\n",
              "      <th>max</th>\n",
              "      <td>22.000000</td>\n",
              "      <td>4.000000</td>\n",
              "      <td>4.000000</td>\n",
              "      <td>4.000000</td>\n",
              "      <td>4.000000</td>\n",
              "      <td>3.000000</td>\n",
              "      <td>5.000000</td>\n",
              "      <td>5.000000</td>\n",
              "      <td>5.000000</td>\n",
              "      <td>5.000000</td>\n",
              "      <td>5.000000</td>\n",
              "      <td>5.000000</td>\n",
              "      <td>75.000000</td>\n",
              "      <td>19.000000</td>\n",
              "      <td>19.000000</td>\n",
              "      <td>20.000000</td>\n",
              "    </tr>\n",
              "  </tbody>\n",
              "</table>\n",
              "</div>"
            ],
            "text/plain": [
              "              age        Medu        Fedu  ...          G1          G2          G3\n",
              "count  395.000000  395.000000  395.000000  ...  395.000000  395.000000  395.000000\n",
              "mean    16.696203    2.749367    2.521519  ...   10.908861   10.713924   10.415190\n",
              "std      1.276043    1.094735    1.088201  ...    3.319195    3.761505    4.581443\n",
              "min     15.000000    0.000000    0.000000  ...    3.000000    0.000000    0.000000\n",
              "25%     16.000000    2.000000    2.000000  ...    8.000000    9.000000    8.000000\n",
              "50%     17.000000    3.000000    2.000000  ...   11.000000   11.000000   11.000000\n",
              "75%     18.000000    4.000000    3.000000  ...   13.000000   13.000000   14.000000\n",
              "max     22.000000    4.000000    4.000000  ...   19.000000   19.000000   20.000000\n",
              "\n",
              "[8 rows x 16 columns]"
            ]
          },
          "metadata": {},
          "execution_count": 23
        }
      ]
    },
    {
      "cell_type": "code",
      "metadata": {
        "colab": {
          "base_uri": "https://localhost:8080/",
          "height": 364
        },
        "id": "0MkAhuw4gOpa",
        "outputId": "d9f26d14-8403-4545-be94-192244f54bd8"
      },
      "source": [
        "df.G3.value_counts().plot.barh()"
      ],
      "execution_count": 24,
      "outputs": [
        {
          "output_type": "execute_result",
          "data": {
            "text/plain": [
              "<matplotlib.axes._subplots.AxesSubplot at 0x7f6fa7482450>"
            ]
          },
          "metadata": {},
          "execution_count": 24
        },
        {
          "output_type": "display_data",
          "data": {
            "image/png": "[encoded data removed]",
            "text/plain": [
              "<Figure size 576x396 with 1 Axes>"
            ]
          },
          "metadata": {}
        }
      ]
    },
    {
      "cell_type": "code",
      "metadata": {
        "colab": {
          "base_uri": "https://localhost:8080/"
        },
        "id": "P6WQcok9gkBH",
        "outputId": "5b8ead96-2de4-4f4f-ab86-8aa34a7b08ce"
      },
      "source": [
        "df.G3.quantile(.99)"
      ],
      "execution_count": 25,
      "outputs": [
        {
          "output_type": "execute_result",
          "data": {
            "text/plain": [
              "19.0"
            ]
          },
          "metadata": {},
          "execution_count": 25
        }
      ]
    },
    {
      "cell_type": "code",
      "metadata": {
        "colab": {
          "base_uri": "https://localhost:8080/"
        },
        "id": "rv1Y-4IKgoFw",
        "outputId": "47da11fc-8e76-42ec-9b86-8cebb67bdc6f"
      },
      "source": [
        "df.G3.quantile([.6, .8])"
      ],
      "execution_count": 26,
      "outputs": [
        {
          "output_type": "execute_result",
          "data": {
            "text/plain": [
              "0.6    12.0\n",
              "0.8    14.0\n",
              "Name: G3, dtype: float64"
            ]
          },
          "metadata": {},
          "execution_count": 26
        }
      ]
    },
    {
      "cell_type": "code",
      "metadata": {
        "colab": {
          "base_uri": "https://localhost:8080/",
          "height": 364
        },
        "id": "wdgCIphWgw3R",
        "outputId": "db64ca02-ddfd-4e62-90dc-40893b8f1673"
      },
      "source": [
        "df.G3.plot.hist()"
      ],
      "execution_count": 27,
      "outputs": [
        {
          "output_type": "execute_result",
          "data": {
            "text/plain": [
              "<matplotlib.axes._subplots.AxesSubplot at 0x7f6fa71f1050>"
            ]
          },
          "metadata": {},
          "execution_count": 27
        },
        {
          "output_type": "display_data",
          "data": {
            "image/png": "[encoded data removed]",
            "text/plain": [
              "<Figure size 576x396 with 1 Axes>"
            ]
          },
          "metadata": {}
        }
      ]
    },
    {
      "cell_type": "code",
      "metadata": {
        "colab": {
          "base_uri": "https://localhost:8080/",
          "height": 364
        },
        "id": "RxTpRfGfg9J3",
        "outputId": "012e2ab3-b861-4817-84bf-22a9515a651c"
      },
      "source": [
        "sns.boxplot(data=df)"
      ],
      "execution_count": 28,
      "outputs": [
        {
          "output_type": "execute_result",
          "data": {
            "text/plain": [
              "<matplotlib.axes._subplots.AxesSubplot at 0x7f6fa71691d0>"
            ]
          },
          "metadata": {},
          "execution_count": 28
        },
        {
          "output_type": "display_data",
          "data": {
            "image/png": "[encoded data removed]",
            "text/plain": [
              "<Figure size 576x396 with 1 Axes>"
            ]
          },
          "metadata": {}
        }
      ]
    },
    {
      "cell_type": "code",
      "metadata": {
        "colab": {
          "base_uri": "https://localhost:8080/"
        },
        "id": "2-GIGtY_h0lF",
        "outputId": "bc3bc388-a526-48c8-8ac2-42c5bb20604a"
      },
      "source": [
        "df.G3.corr(df.absences)"
      ],
      "execution_count": 29,
      "outputs": [
        {
          "output_type": "execute_result",
          "data": {
            "text/plain": [
              "0.03424731615006931"
            ]
          },
          "metadata": {},
          "execution_count": 29
        }
      ]
    },
    {
      "cell_type": "code",
      "metadata": {
        "colab": {
          "base_uri": "https://localhost:8080/",
          "height": 416
        },
        "id": "rndh3iaSiCG1",
        "outputId": "5dc87902-0415-44a0-db4c-835dd9fb91fd"
      },
      "source": [
        "df.plot.scatter(x='G3', y='absences')"
      ],
      "execution_count": 30,
      "outputs": [
        {
          "output_type": "stream",
          "name": "stderr",
          "text": [
            "WARNING:matplotlib.axes._axes:*c* argument looks like a single numeric RGB or RGBA sequence, which should be avoided as value-mapping will have precedence in case its length matches with *x* & *y*.  Please use the *color* keyword-argument or provide a 2-D array with a single row if you intend to specify the same RGB or RGBA value for all points.\n"
          ]
        },
        {
          "output_type": "execute_result",
          "data": {
            "text/plain": [
              "<matplotlib.axes._subplots.AxesSubplot at 0x7f6fba2fc190>"
            ]
          },
          "metadata": {},
          "execution_count": 30
        },
        {
          "output_type": "display_data",
          "data": {
            "image/png": "[encoded data removed]",
            "text/plain": [
              "<Figure size 576x396 with 1 Axes>"
            ]
          },
          "metadata": {}
        }
      ]
    },
    {
      "cell_type": "code",
      "metadata": {
        "colab": {
          "base_uri": "https://localhost:8080/",
          "height": 222
        },
        "id": "LW3ZXhIUk3jk",
        "outputId": "9838ade4-ce35-4176-a8c1-a1f764f749b8"
      },
      "source": [
        "def tweak_kag2(df):\n",
        "    df = pd.get_dummies(df, drop_first=True)\n",
        "    cols = [c.replace(' ', '_') for c in df.columns]\n",
        "    df.columns = cols\n",
        "    return df\n",
        "    \n",
        "df = tweak_kag2(df)\n",
        "df.head(5)"
      ],
      "execution_count": 31,
      "outputs": [
        {
          "output_type": "execute_result",
          "data": {
            "text/html": [
              "<div>\n",
              "<style scoped>\n",
              "    .dataframe tbody tr th:only-of-type {\n",
              "        vertical-align: middle;\n",
              "    }\n",
              "\n",
              "    .dataframe tbody tr th {\n",
              "        vertical-align: top;\n",
              "    }\n",
              "\n",
              "    .dataframe thead th {\n",
              "        text-align: right;\n",
              "    }\n",
              "</style>\n",
              "<table border=\"1\" class=\"dataframe\">\n",
              "  <thead>\n",
              "    <tr style=\"text-align: right;\">\n",
              "      <th></th>\n",
              "      <th>age</th>\n",
              "      <th>Medu</th>\n",
              "      <th>Fedu</th>\n",
              "      <th>traveltime</th>\n",
              "      <th>studytime</th>\n",
              "      <th>failures</th>\n",
              "      <th>famrel</th>\n",
              "      <th>freetime</th>\n",
              "      <th>goout</th>\n",
              "      <th>Dalc</th>\n",
              "      <th>Walc</th>\n",
              "      <th>health</th>\n",
              "      <th>absences</th>\n",
              "      <th>G1</th>\n",
              "      <th>G2</th>\n",
              "      <th>G3</th>\n",
              "      <th>school_MS</th>\n",
              "      <th>sex_M</th>\n",
              "      <th>address_U</th>\n",
              "      <th>famsize_LE3</th>\n",
              "      <th>Pstatus_T</th>\n",
              "      <th>Mjob_health</th>\n",
              "      <th>Mjob_other</th>\n",
              "      <th>Mjob_services</th>\n",
              "      <th>Mjob_teacher</th>\n",
              "      <th>Fjob_health</th>\n",
              "      <th>Fjob_other</th>\n",
              "      <th>Fjob_services</th>\n",
              "      <th>Fjob_teacher</th>\n",
              "      <th>reason_home</th>\n",
              "      <th>reason_other</th>\n",
              "      <th>reason_reputation</th>\n",
              "      <th>guardian_mother</th>\n",
              "      <th>guardian_other</th>\n",
              "      <th>schoolsup_yes</th>\n",
              "      <th>famsup_yes</th>\n",
              "      <th>paid_yes</th>\n",
              "      <th>activities_yes</th>\n",
              "      <th>nursery_yes</th>\n",
              "      <th>higher_yes</th>\n",
              "      <th>internet_yes</th>\n",
              "      <th>romantic_yes</th>\n",
              "    </tr>\n",
              "  </thead>\n",
              "  <tbody>\n",
              "    <tr>\n",
              "      <th>0</th>\n",
              "      <td>18</td>\n",
              "      <td>4</td>\n",
              "      <td>4</td>\n",
              "      <td>2</td>\n",
              "      <td>2</td>\n",
              "      <td>0</td>\n",
              "      <td>4</td>\n",
              "      <td>3</td>\n",
              "      <td>4</td>\n",
              "      <td>1</td>\n",
              "      <td>1</td>\n",
              "      <td>3</td>\n",
              "      <td>6</td>\n",
              "      <td>5</td>\n",
              "      <td>6</td>\n",
              "      <td>6</td>\n",
              "      <td>0</td>\n",
              "      <td>0</td>\n",
              "      <td>1</td>\n",
              "      <td>0</td>\n",
              "      <td>0</td>\n",
              "      <td>0</td>\n",
              "      <td>0</td>\n",
              "      <td>0</td>\n",
              "      <td>0</td>\n",
              "      <td>0</td>\n",
              "      <td>0</td>\n",
              "      <td>0</td>\n",
              "      <td>1</td>\n",
              "      <td>0</td>\n",
              "      <td>0</td>\n",
              "      <td>0</td>\n",
              "      <td>1</td>\n",
              "      <td>0</td>\n",
              "      <td>1</td>\n",
              "      <td>0</td>\n",
              "      <td>0</td>\n",
              "      <td>0</td>\n",
              "      <td>1</td>\n",
              "      <td>1</td>\n",
              "      <td>0</td>\n",
              "      <td>0</td>\n",
              "    </tr>\n",
              "    <tr>\n",
              "      <th>1</th>\n",
              "      <td>17</td>\n",
              "      <td>1</td>\n",
              "      <td>1</td>\n",
              "      <td>1</td>\n",
              "      <td>2</td>\n",
              "      <td>0</td>\n",
              "      <td>5</td>\n",
              "      <td>3</td>\n",
              "      <td>3</td>\n",
              "      <td>1</td>\n",
              "      <td>1</td>\n",
              "      <td>3</td>\n",
              "      <td>4</td>\n",
              "      <td>5</td>\n",
              "      <td>5</td>\n",
              "      <td>6</td>\n",
              "      <td>0</td>\n",
              "      <td>0</td>\n",
              "      <td>1</td>\n",
              "      <td>0</td>\n",
              "      <td>1</td>\n",
              "      <td>0</td>\n",
              "      <td>0</td>\n",
              "      <td>0</td>\n",
              "      <td>0</td>\n",
              "      <td>0</td>\n",
              "      <td>1</td>\n",
              "      <td>0</td>\n",
              "      <td>0</td>\n",
              "      <td>0</td>\n",
              "      <td>0</td>\n",
              "      <td>0</td>\n",
              "      <td>0</td>\n",
              "      <td>0</td>\n",
              "      <td>0</td>\n",
              "      <td>1</td>\n",
              "      <td>0</td>\n",
              "      <td>0</td>\n",
              "      <td>0</td>\n",
              "      <td>1</td>\n",
              "      <td>1</td>\n",
              "      <td>0</td>\n",
              "    </tr>\n",
              "    <tr>\n",
              "      <th>2</th>\n",
              "      <td>15</td>\n",
              "      <td>1</td>\n",
              "      <td>1</td>\n",
              "      <td>1</td>\n",
              "      <td>2</td>\n",
              "      <td>3</td>\n",
              "      <td>4</td>\n",
              "      <td>3</td>\n",
              "      <td>2</td>\n",
              "      <td>2</td>\n",
              "      <td>3</td>\n",
              "      <td>3</td>\n",
              "      <td>10</td>\n",
              "      <td>7</td>\n",
              "      <td>8</td>\n",
              "      <td>10</td>\n",
              "      <td>0</td>\n",
              "      <td>0</td>\n",
              "      <td>1</td>\n",
              "      <td>1</td>\n",
              "      <td>1</td>\n",
              "      <td>0</td>\n",
              "      <td>0</td>\n",
              "      <td>0</td>\n",
              "      <td>0</td>\n",
              "      <td>0</td>\n",
              "      <td>1</td>\n",
              "      <td>0</td>\n",
              "      <td>0</td>\n",
              "      <td>0</td>\n",
              "      <td>1</td>\n",
              "      <td>0</td>\n",
              "      <td>1</td>\n",
              "      <td>0</td>\n",
              "      <td>1</td>\n",
              "      <td>0</td>\n",
              "      <td>1</td>\n",
              "      <td>0</td>\n",
              "      <td>1</td>\n",
              "      <td>1</td>\n",
              "      <td>1</td>\n",
              "      <td>0</td>\n",
              "    </tr>\n",
              "    <tr>\n",
              "      <th>3</th>\n",
              "      <td>15</td>\n",
              "      <td>4</td>\n",
              "      <td>2</td>\n",
              "      <td>1</td>\n",
              "      <td>3</td>\n",
              "      <td>0</td>\n",
              "      <td>3</td>\n",
              "      <td>2</td>\n",
              "      <td>2</td>\n",
              "      <td>1</td>\n",
              "      <td>1</td>\n",
              "      <td>5</td>\n",
              "      <td>2</td>\n",
              "      <td>15</td>\n",
              "      <td>14</td>\n",
              "      <td>15</td>\n",
              "      <td>0</td>\n",
              "      <td>0</td>\n",
              "      <td>1</td>\n",
              "      <td>0</td>\n",
              "      <td>1</td>\n",
              "      <td>1</td>\n",
              "      <td>0</td>\n",
              "      <td>0</td>\n",
              "      <td>0</td>\n",
              "      <td>0</td>\n",
              "      <td>0</td>\n",
              "      <td>1</td>\n",
              "      <td>0</td>\n",
              "      <td>1</td>\n",
              "      <td>0</td>\n",
              "      <td>0</td>\n",
              "      <td>1</td>\n",
              "      <td>0</td>\n",
              "      <td>0</td>\n",
              "      <td>1</td>\n",
              "      <td>1</td>\n",
              "      <td>1</td>\n",
              "      <td>1</td>\n",
              "      <td>1</td>\n",
              "      <td>1</td>\n",
              "      <td>1</td>\n",
              "    </tr>\n",
              "    <tr>\n",
              "      <th>4</th>\n",
              "      <td>16</td>\n",
              "      <td>3</td>\n",
              "      <td>3</td>\n",
              "      <td>1</td>\n",
              "      <td>2</td>\n",
              "      <td>0</td>\n",
              "      <td>4</td>\n",
              "      <td>3</td>\n",
              "      <td>2</td>\n",
              "      <td>1</td>\n",
              "      <td>2</td>\n",
              "      <td>5</td>\n",
              "      <td>4</td>\n",
              "      <td>6</td>\n",
              "      <td>10</td>\n",
              "      <td>10</td>\n",
              "      <td>0</td>\n",
              "      <td>0</td>\n",
              "      <td>1</td>\n",
              "      <td>0</td>\n",
              "      <td>1</td>\n",
              "      <td>0</td>\n",
              "      <td>1</td>\n",
              "      <td>0</td>\n",
              "      <td>0</td>\n",
              "      <td>0</td>\n",
              "      <td>1</td>\n",
              "      <td>0</td>\n",
              "      <td>0</td>\n",
              "      <td>1</td>\n",
              "      <td>0</td>\n",
              "      <td>0</td>\n",
              "      <td>0</td>\n",
              "      <td>0</td>\n",
              "      <td>0</td>\n",
              "      <td>1</td>\n",
              "      <td>1</td>\n",
              "      <td>0</td>\n",
              "      <td>1</td>\n",
              "      <td>1</td>\n",
              "      <td>0</td>\n",
              "      <td>0</td>\n",
              "    </tr>\n",
              "  </tbody>\n",
              "</table>\n",
              "</div>"
            ],
            "text/plain": [
              "   age  Medu  Fedu  ...  higher_yes  internet_yes  romantic_yes\n",
              "0   18     4     4  ...           1             0             0\n",
              "1   17     1     1  ...           1             1             0\n",
              "2   15     1     1  ...           1             1             0\n",
              "3   15     4     2  ...           1             1             1\n",
              "4   16     3     3  ...           1             0             0\n",
              "\n",
              "[5 rows x 42 columns]"
            ]
          },
          "metadata": {},
          "execution_count": 31
        }
      ]
    },
    {
      "cell_type": "code",
      "metadata": {
        "colab": {
          "base_uri": "https://localhost:8080/"
        },
        "id": "FofCdIJynFhF",
        "outputId": "5bc7f781-ed3c-46c8-abbd-2acf1caefe02"
      },
      "source": [
        "df.isna().any()"
      ],
      "execution_count": 32,
      "outputs": [
        {
          "output_type": "execute_result",
          "data": {
            "text/plain": [
              "age                  False\n",
              "Medu                 False\n",
              "Fedu                 False\n",
              "traveltime           False\n",
              "studytime            False\n",
              "failures             False\n",
              "famrel               False\n",
              "freetime             False\n",
              "goout                False\n",
              "Dalc                 False\n",
              "Walc                 False\n",
              "health               False\n",
              "absences             False\n",
              "G1                   False\n",
              "G2                   False\n",
              "G3                   False\n",
              "school_MS            False\n",
              "sex_M                False\n",
              "address_U            False\n",
              "famsize_LE3          False\n",
              "Pstatus_T            False\n",
              "Mjob_health          False\n",
              "Mjob_other           False\n",
              "Mjob_services        False\n",
              "Mjob_teacher         False\n",
              "Fjob_health          False\n",
              "Fjob_other           False\n",
              "Fjob_services        False\n",
              "Fjob_teacher         False\n",
              "reason_home          False\n",
              "reason_other         False\n",
              "reason_reputation    False\n",
              "guardian_mother      False\n",
              "guardian_other       False\n",
              "schoolsup_yes        False\n",
              "famsup_yes           False\n",
              "paid_yes             False\n",
              "activities_yes       False\n",
              "nursery_yes          False\n",
              "higher_yes           False\n",
              "internet_yes         False\n",
              "romantic_yes         False\n",
              "dtype: bool"
            ]
          },
          "metadata": {},
          "execution_count": 32
        }
      ]
    },
    {
      "cell_type": "code",
      "metadata": {
        "id": "JC26d1QWnMvf"
      },
      "source": [
        "X = df\n",
        "std = preprocessing.StandardScaler()\n",
        "                        \n",
        "X_std = pd.DataFrame(std.fit_transform(X), columns=X.columns)"
      ],
      "execution_count": 33,
      "outputs": []
    },
    {
      "cell_type": "code",
      "metadata": {
        "colab": {
          "base_uri": "https://localhost:8080/",
          "height": 434
        },
        "id": "O-O0gyV7nXyR",
        "outputId": "9d05443e-77d1-4b04-99fd-21737f36c2d0"
      },
      "source": [
        "# instance model\n",
        "pca = decomposition.PCA()\n",
        "\n",
        "# recoginize ehat embeddging are\n",
        "\n",
        "pca_X = pd.DataFrame(pca.fit_transform(X_std), columns=[f'PC{i+1}' for i in range(len(X.columns))])\n",
        "pca_X\n",
        "\n"
      ],
      "execution_count": 34,
      "outputs": [
        {
          "output_type": "execute_result",
          "data": {
            "text/html": [
              "<div>\n",
              "<style scoped>\n",
              "    .dataframe tbody tr th:only-of-type {\n",
              "        vertical-align: middle;\n",
              "    }\n",
              "\n",
              "    .dataframe tbody tr th {\n",
              "        vertical-align: top;\n",
              "    }\n",
              "\n",
              "    .dataframe thead th {\n",
              "        text-align: right;\n",
              "    }\n",
              "</style>\n",
              "<table border=\"1\" class=\"dataframe\">\n",
              "  <thead>\n",
              "    <tr style=\"text-align: right;\">\n",
              "      <th></th>\n",
              "      <th>PC1</th>\n",
              "      <th>PC2</th>\n",
              "      <th>PC3</th>\n",
              "      <th>PC4</th>\n",
              "      <th>PC5</th>\n",
              "      <th>PC6</th>\n",
              "      <th>PC7</th>\n",
              "      <th>PC8</th>\n",
              "      <th>PC9</th>\n",
              "      <th>PC10</th>\n",
              "      <th>PC11</th>\n",
              "      <th>PC12</th>\n",
              "      <th>PC13</th>\n",
              "      <th>PC14</th>\n",
              "      <th>PC15</th>\n",
              "      <th>PC16</th>\n",
              "      <th>PC17</th>\n",
              "      <th>PC18</th>\n",
              "      <th>PC19</th>\n",
              "      <th>PC20</th>\n",
              "      <th>PC21</th>\n",
              "      <th>PC22</th>\n",
              "      <th>PC23</th>\n",
              "      <th>PC24</th>\n",
              "      <th>PC25</th>\n",
              "      <th>PC26</th>\n",
              "      <th>PC27</th>\n",
              "      <th>PC28</th>\n",
              "      <th>PC29</th>\n",
              "      <th>PC30</th>\n",
              "      <th>PC31</th>\n",
              "      <th>PC32</th>\n",
              "      <th>PC33</th>\n",
              "      <th>PC34</th>\n",
              "      <th>PC35</th>\n",
              "      <th>PC36</th>\n",
              "      <th>PC37</th>\n",
              "      <th>PC38</th>\n",
              "      <th>PC39</th>\n",
              "      <th>PC40</th>\n",
              "      <th>PC41</th>\n",
              "      <th>PC42</th>\n",
              "    </tr>\n",
              "  </thead>\n",
              "  <tbody>\n",
              "    <tr>\n",
              "      <th>0</th>\n",
              "      <td>0.362968</td>\n",
              "      <td>-0.662011</td>\n",
              "      <td>-2.619059</td>\n",
              "      <td>-0.150514</td>\n",
              "      <td>-1.909049</td>\n",
              "      <td>1.195931</td>\n",
              "      <td>2.974020</td>\n",
              "      <td>-0.316236</td>\n",
              "      <td>2.800774</td>\n",
              "      <td>-0.828876</td>\n",
              "      <td>1.137751</td>\n",
              "      <td>-0.088371</td>\n",
              "      <td>-0.360996</td>\n",
              "      <td>3.042613</td>\n",
              "      <td>-1.072651</td>\n",
              "      <td>-1.742326</td>\n",
              "      <td>-0.237566</td>\n",
              "      <td>0.105362</td>\n",
              "      <td>-0.384918</td>\n",
              "      <td>0.694889</td>\n",
              "      <td>-0.304597</td>\n",
              "      <td>0.386173</td>\n",
              "      <td>-1.180852</td>\n",
              "      <td>-0.990967</td>\n",
              "      <td>-0.497876</td>\n",
              "      <td>-0.557965</td>\n",
              "      <td>-0.174638</td>\n",
              "      <td>-0.267643</td>\n",
              "      <td>-1.236639</td>\n",
              "      <td>-1.550694</td>\n",
              "      <td>0.286381</td>\n",
              "      <td>0.161630</td>\n",
              "      <td>0.152182</td>\n",
              "      <td>-0.717595</td>\n",
              "      <td>-0.778343</td>\n",
              "      <td>-0.574249</td>\n",
              "      <td>0.424692</td>\n",
              "      <td>0.119356</td>\n",
              "      <td>-0.868695</td>\n",
              "      <td>0.796581</td>\n",
              "      <td>-0.314136</td>\n",
              "      <td>-0.148982</td>\n",
              "    </tr>\n",
              "    <tr>\n",
              "      <th>1</th>\n",
              "      <td>2.272260</td>\n",
              "      <td>-2.353466</td>\n",
              "      <td>-0.486152</td>\n",
              "      <td>0.197988</td>\n",
              "      <td>0.124527</td>\n",
              "      <td>-1.114177</td>\n",
              "      <td>-0.036379</td>\n",
              "      <td>0.915729</td>\n",
              "      <td>-0.800651</td>\n",
              "      <td>0.684950</td>\n",
              "      <td>-0.200578</td>\n",
              "      <td>-0.522105</td>\n",
              "      <td>-0.896360</td>\n",
              "      <td>0.287153</td>\n",
              "      <td>-1.241850</td>\n",
              "      <td>0.163991</td>\n",
              "      <td>0.817678</td>\n",
              "      <td>0.390427</td>\n",
              "      <td>-0.616031</td>\n",
              "      <td>-1.122960</td>\n",
              "      <td>-1.226973</td>\n",
              "      <td>0.113658</td>\n",
              "      <td>-0.922485</td>\n",
              "      <td>-0.346324</td>\n",
              "      <td>-0.239496</td>\n",
              "      <td>0.419427</td>\n",
              "      <td>0.501354</td>\n",
              "      <td>0.403539</td>\n",
              "      <td>1.019542</td>\n",
              "      <td>-0.951689</td>\n",
              "      <td>0.133989</td>\n",
              "      <td>-0.982591</td>\n",
              "      <td>-0.596278</td>\n",
              "      <td>1.356727</td>\n",
              "      <td>-0.545692</td>\n",
              "      <td>-0.499628</td>\n",
              "      <td>-0.303147</td>\n",
              "      <td>0.575229</td>\n",
              "      <td>-0.717926</td>\n",
              "      <td>0.407654</td>\n",
              "      <td>-0.020569</td>\n",
              "      <td>-0.253189</td>\n",
              "    </tr>\n",
              "    <tr>\n",
              "      <th>2</th>\n",
              "      <td>2.134215</td>\n",
              "      <td>-0.595323</td>\n",
              "      <td>-0.546596</td>\n",
              "      <td>-0.383888</td>\n",
              "      <td>-0.625077</td>\n",
              "      <td>-1.435721</td>\n",
              "      <td>-0.671970</td>\n",
              "      <td>-2.887273</td>\n",
              "      <td>0.756880</td>\n",
              "      <td>0.794289</td>\n",
              "      <td>-0.233153</td>\n",
              "      <td>0.068709</td>\n",
              "      <td>-0.934967</td>\n",
              "      <td>0.804284</td>\n",
              "      <td>-0.892040</td>\n",
              "      <td>2.612661</td>\n",
              "      <td>0.312456</td>\n",
              "      <td>1.731918</td>\n",
              "      <td>-0.461272</td>\n",
              "      <td>1.263998</td>\n",
              "      <td>0.591671</td>\n",
              "      <td>-0.582788</td>\n",
              "      <td>-0.784594</td>\n",
              "      <td>0.334731</td>\n",
              "      <td>-1.602617</td>\n",
              "      <td>-1.231511</td>\n",
              "      <td>-2.505901</td>\n",
              "      <td>-0.650769</td>\n",
              "      <td>0.481157</td>\n",
              "      <td>1.868842</td>\n",
              "      <td>-0.580950</td>\n",
              "      <td>0.932726</td>\n",
              "      <td>-0.156257</td>\n",
              "      <td>0.890599</td>\n",
              "      <td>-0.738137</td>\n",
              "      <td>0.733610</td>\n",
              "      <td>1.081509</td>\n",
              "      <td>0.635221</td>\n",
              "      <td>-0.049695</td>\n",
              "      <td>0.477748</td>\n",
              "      <td>0.119776</td>\n",
              "      <td>-0.334841</td>\n",
              "    </tr>\n",
              "    <tr>\n",
              "      <th>3</th>\n",
              "      <td>-3.207328</td>\n",
              "      <td>-0.840273</td>\n",
              "      <td>-0.535223</td>\n",
              "      <td>1.618167</td>\n",
              "      <td>0.431047</td>\n",
              "      <td>-0.525111</td>\n",
              "      <td>0.209780</td>\n",
              "      <td>-1.433193</td>\n",
              "      <td>-1.580663</td>\n",
              "      <td>1.898388</td>\n",
              "      <td>-1.285340</td>\n",
              "      <td>-0.012730</td>\n",
              "      <td>0.511925</td>\n",
              "      <td>-1.934666</td>\n",
              "      <td>1.740690</td>\n",
              "      <td>-1.053627</td>\n",
              "      <td>-1.488457</td>\n",
              "      <td>-0.317349</td>\n",
              "      <td>0.124340</td>\n",
              "      <td>0.351880</td>\n",
              "      <td>0.423355</td>\n",
              "      <td>1.719085</td>\n",
              "      <td>-0.563055</td>\n",
              "      <td>0.056870</td>\n",
              "      <td>-0.021682</td>\n",
              "      <td>-0.824374</td>\n",
              "      <td>-0.430139</td>\n",
              "      <td>-0.273786</td>\n",
              "      <td>-0.460032</td>\n",
              "      <td>-0.146501</td>\n",
              "      <td>0.301392</td>\n",
              "      <td>0.680508</td>\n",
              "      <td>-0.210789</td>\n",
              "      <td>-0.412657</td>\n",
              "      <td>0.282420</td>\n",
              "      <td>0.106622</td>\n",
              "      <td>-0.882868</td>\n",
              "      <td>-0.093166</td>\n",
              "      <td>0.167804</td>\n",
              "      <td>0.065457</td>\n",
              "      <td>0.265401</td>\n",
              "      <td>-0.292328</td>\n",
              "    </tr>\n",
              "    <tr>\n",
              "      <th>4</th>\n",
              "      <td>0.436561</td>\n",
              "      <td>-2.080756</td>\n",
              "      <td>-0.533011</td>\n",
              "      <td>-0.794434</td>\n",
              "      <td>0.673129</td>\n",
              "      <td>-0.282411</td>\n",
              "      <td>1.556725</td>\n",
              "      <td>-0.077447</td>\n",
              "      <td>-0.682180</td>\n",
              "      <td>1.688506</td>\n",
              "      <td>1.149069</td>\n",
              "      <td>-1.156523</td>\n",
              "      <td>0.313518</td>\n",
              "      <td>0.159105</td>\n",
              "      <td>0.187414</td>\n",
              "      <td>-0.414550</td>\n",
              "      <td>0.757410</td>\n",
              "      <td>-0.835298</td>\n",
              "      <td>-0.109701</td>\n",
              "      <td>-0.286417</td>\n",
              "      <td>1.809560</td>\n",
              "      <td>-0.548655</td>\n",
              "      <td>-0.550425</td>\n",
              "      <td>0.211709</td>\n",
              "      <td>0.766150</td>\n",
              "      <td>0.236552</td>\n",
              "      <td>1.088149</td>\n",
              "      <td>0.123999</td>\n",
              "      <td>0.014738</td>\n",
              "      <td>0.310405</td>\n",
              "      <td>-0.962971</td>\n",
              "      <td>1.237310</td>\n",
              "      <td>-0.165245</td>\n",
              "      <td>0.572237</td>\n",
              "      <td>0.074861</td>\n",
              "      <td>-0.403721</td>\n",
              "      <td>0.111370</td>\n",
              "      <td>-0.379755</td>\n",
              "      <td>-0.792786</td>\n",
              "      <td>0.034590</td>\n",
              "      <td>-0.113765</td>\n",
              "      <td>0.150526</td>\n",
              "    </tr>\n",
              "    <tr>\n",
              "      <th>...</th>\n",
              "      <td>...</td>\n",
              "      <td>...</td>\n",
              "      <td>...</td>\n",
              "      <td>...</td>\n",
              "      <td>...</td>\n",
              "      <td>...</td>\n",
              "      <td>...</td>\n",
              "      <td>...</td>\n",
              "      <td>...</td>\n",
              "      <td>...</td>\n",
              "      <td>...</td>\n",
              "      <td>...</td>\n",
              "      <td>...</td>\n",
              "      <td>...</td>\n",
              "      <td>...</td>\n",
              "      <td>...</td>\n",
              "      <td>...</td>\n",
              "      <td>...</td>\n",
              "      <td>...</td>\n",
              "      <td>...</td>\n",
              "      <td>...</td>\n",
              "      <td>...</td>\n",
              "      <td>...</td>\n",
              "      <td>...</td>\n",
              "      <td>...</td>\n",
              "      <td>...</td>\n",
              "      <td>...</td>\n",
              "      <td>...</td>\n",
              "      <td>...</td>\n",
              "      <td>...</td>\n",
              "      <td>...</td>\n",
              "      <td>...</td>\n",
              "      <td>...</td>\n",
              "      <td>...</td>\n",
              "      <td>...</td>\n",
              "      <td>...</td>\n",
              "      <td>...</td>\n",
              "      <td>...</td>\n",
              "      <td>...</td>\n",
              "      <td>...</td>\n",
              "      <td>...</td>\n",
              "      <td>...</td>\n",
              "    </tr>\n",
              "    <tr>\n",
              "      <th>390</th>\n",
              "      <td>3.261966</td>\n",
              "      <td>4.063761</td>\n",
              "      <td>0.930748</td>\n",
              "      <td>2.941939</td>\n",
              "      <td>2.235787</td>\n",
              "      <td>0.400280</td>\n",
              "      <td>-0.669355</td>\n",
              "      <td>-0.256155</td>\n",
              "      <td>1.666233</td>\n",
              "      <td>-0.644260</td>\n",
              "      <td>1.781076</td>\n",
              "      <td>-2.837164</td>\n",
              "      <td>1.742632</td>\n",
              "      <td>2.628490</td>\n",
              "      <td>-1.321411</td>\n",
              "      <td>0.029899</td>\n",
              "      <td>1.089633</td>\n",
              "      <td>-0.221005</td>\n",
              "      <td>-0.393043</td>\n",
              "      <td>-0.501172</td>\n",
              "      <td>2.079853</td>\n",
              "      <td>1.311276</td>\n",
              "      <td>-0.135778</td>\n",
              "      <td>0.693989</td>\n",
              "      <td>0.635363</td>\n",
              "      <td>-0.972489</td>\n",
              "      <td>-0.187273</td>\n",
              "      <td>0.254871</td>\n",
              "      <td>-0.379221</td>\n",
              "      <td>-0.098258</td>\n",
              "      <td>1.021557</td>\n",
              "      <td>0.204790</td>\n",
              "      <td>-0.084737</td>\n",
              "      <td>0.312493</td>\n",
              "      <td>-1.246473</td>\n",
              "      <td>1.059604</td>\n",
              "      <td>-0.484825</td>\n",
              "      <td>-0.305729</td>\n",
              "      <td>0.006371</td>\n",
              "      <td>-0.266265</td>\n",
              "      <td>-0.075094</td>\n",
              "      <td>-0.091332</td>\n",
              "    </tr>\n",
              "    <tr>\n",
              "      <th>391</th>\n",
              "      <td>0.382804</td>\n",
              "      <td>3.842508</td>\n",
              "      <td>3.002182</td>\n",
              "      <td>0.421148</td>\n",
              "      <td>-0.852207</td>\n",
              "      <td>-0.442644</td>\n",
              "      <td>-1.079103</td>\n",
              "      <td>-1.866233</td>\n",
              "      <td>-0.479668</td>\n",
              "      <td>-0.320770</td>\n",
              "      <td>0.692363</td>\n",
              "      <td>0.672857</td>\n",
              "      <td>0.142909</td>\n",
              "      <td>0.191456</td>\n",
              "      <td>-2.363510</td>\n",
              "      <td>-0.952532</td>\n",
              "      <td>-0.908469</td>\n",
              "      <td>0.910703</td>\n",
              "      <td>0.640792</td>\n",
              "      <td>-0.976215</td>\n",
              "      <td>-1.941220</td>\n",
              "      <td>0.314993</td>\n",
              "      <td>0.528748</td>\n",
              "      <td>1.419197</td>\n",
              "      <td>-0.064629</td>\n",
              "      <td>0.428446</td>\n",
              "      <td>0.518722</td>\n",
              "      <td>0.200473</td>\n",
              "      <td>-0.339583</td>\n",
              "      <td>-0.430429</td>\n",
              "      <td>1.053460</td>\n",
              "      <td>0.524789</td>\n",
              "      <td>1.066785</td>\n",
              "      <td>-0.346702</td>\n",
              "      <td>0.130384</td>\n",
              "      <td>-0.120909</td>\n",
              "      <td>-1.173774</td>\n",
              "      <td>-0.336962</td>\n",
              "      <td>-0.038553</td>\n",
              "      <td>0.259895</td>\n",
              "      <td>-0.239689</td>\n",
              "      <td>-0.027686</td>\n",
              "    </tr>\n",
              "    <tr>\n",
              "      <th>392</th>\n",
              "      <td>5.957951</td>\n",
              "      <td>1.209704</td>\n",
              "      <td>3.406842</td>\n",
              "      <td>1.180817</td>\n",
              "      <td>1.098868</td>\n",
              "      <td>1.178373</td>\n",
              "      <td>0.543701</td>\n",
              "      <td>3.060241</td>\n",
              "      <td>0.805094</td>\n",
              "      <td>0.960671</td>\n",
              "      <td>0.592323</td>\n",
              "      <td>-1.081548</td>\n",
              "      <td>0.191925</td>\n",
              "      <td>1.253099</td>\n",
              "      <td>-1.530974</td>\n",
              "      <td>-0.761008</td>\n",
              "      <td>1.632395</td>\n",
              "      <td>0.764552</td>\n",
              "      <td>-0.505504</td>\n",
              "      <td>0.710912</td>\n",
              "      <td>0.609319</td>\n",
              "      <td>0.235384</td>\n",
              "      <td>0.636983</td>\n",
              "      <td>1.500171</td>\n",
              "      <td>0.277389</td>\n",
              "      <td>-1.145161</td>\n",
              "      <td>-1.379648</td>\n",
              "      <td>-0.954110</td>\n",
              "      <td>0.534127</td>\n",
              "      <td>0.908203</td>\n",
              "      <td>0.458465</td>\n",
              "      <td>-0.095131</td>\n",
              "      <td>-0.206776</td>\n",
              "      <td>-0.084069</td>\n",
              "      <td>-0.930966</td>\n",
              "      <td>-0.059588</td>\n",
              "      <td>-0.442740</td>\n",
              "      <td>0.122211</td>\n",
              "      <td>0.253351</td>\n",
              "      <td>-0.424192</td>\n",
              "      <td>-0.005453</td>\n",
              "      <td>-0.068126</td>\n",
              "    </tr>\n",
              "    <tr>\n",
              "      <th>393</th>\n",
              "      <td>1.925630</td>\n",
              "      <td>2.292021</td>\n",
              "      <td>2.787432</td>\n",
              "      <td>-0.967631</td>\n",
              "      <td>-1.941905</td>\n",
              "      <td>1.128726</td>\n",
              "      <td>-0.658579</td>\n",
              "      <td>-0.163055</td>\n",
              "      <td>0.332866</td>\n",
              "      <td>-0.040284</td>\n",
              "      <td>1.122767</td>\n",
              "      <td>-1.910235</td>\n",
              "      <td>0.304309</td>\n",
              "      <td>-1.100145</td>\n",
              "      <td>-0.421796</td>\n",
              "      <td>0.455530</td>\n",
              "      <td>-0.264927</td>\n",
              "      <td>0.565802</td>\n",
              "      <td>-1.133836</td>\n",
              "      <td>-1.863415</td>\n",
              "      <td>-2.147135</td>\n",
              "      <td>-0.663651</td>\n",
              "      <td>1.046516</td>\n",
              "      <td>1.069803</td>\n",
              "      <td>-0.385126</td>\n",
              "      <td>-0.954620</td>\n",
              "      <td>0.160830</td>\n",
              "      <td>-0.360490</td>\n",
              "      <td>0.591402</td>\n",
              "      <td>-0.757259</td>\n",
              "      <td>0.290084</td>\n",
              "      <td>0.779826</td>\n",
              "      <td>-0.896948</td>\n",
              "      <td>-1.071696</td>\n",
              "      <td>-0.106116</td>\n",
              "      <td>-0.178512</td>\n",
              "      <td>0.039619</td>\n",
              "      <td>-0.776078</td>\n",
              "      <td>-0.005953</td>\n",
              "      <td>0.123103</td>\n",
              "      <td>-0.423548</td>\n",
              "      <td>0.220632</td>\n",
              "    </tr>\n",
              "    <tr>\n",
              "      <th>394</th>\n",
              "      <td>2.785014</td>\n",
              "      <td>1.130152</td>\n",
              "      <td>2.016413</td>\n",
              "      <td>0.138059</td>\n",
              "      <td>-0.283085</td>\n",
              "      <td>0.177877</td>\n",
              "      <td>1.049335</td>\n",
              "      <td>-1.129742</td>\n",
              "      <td>-0.322135</td>\n",
              "      <td>0.965445</td>\n",
              "      <td>0.209505</td>\n",
              "      <td>0.786500</td>\n",
              "      <td>1.715702</td>\n",
              "      <td>0.647656</td>\n",
              "      <td>-0.596135</td>\n",
              "      <td>0.265527</td>\n",
              "      <td>0.176172</td>\n",
              "      <td>-0.392573</td>\n",
              "      <td>0.435726</td>\n",
              "      <td>-1.894825</td>\n",
              "      <td>0.117752</td>\n",
              "      <td>-2.277161</td>\n",
              "      <td>0.001984</td>\n",
              "      <td>1.243661</td>\n",
              "      <td>-0.316037</td>\n",
              "      <td>-0.812513</td>\n",
              "      <td>-0.438572</td>\n",
              "      <td>1.506984</td>\n",
              "      <td>-0.351085</td>\n",
              "      <td>-0.714847</td>\n",
              "      <td>1.254524</td>\n",
              "      <td>-0.950716</td>\n",
              "      <td>-0.428046</td>\n",
              "      <td>0.526405</td>\n",
              "      <td>-0.420343</td>\n",
              "      <td>-0.284179</td>\n",
              "      <td>-1.097101</td>\n",
              "      <td>0.331320</td>\n",
              "      <td>-0.300895</td>\n",
              "      <td>0.327626</td>\n",
              "      <td>0.632848</td>\n",
              "      <td>0.847079</td>\n",
              "    </tr>\n",
              "  </tbody>\n",
              "</table>\n",
              "<p>395 rows × 42 columns</p>\n",
              "</div>"
            ],
            "text/plain": [
              "          PC1       PC2       PC3  ...      PC40      PC41      PC42\n",
              "0    0.362968 -0.662011 -2.619059  ...  0.796581 -0.314136 -0.148982\n",
              "1    2.272260 -2.353466 -0.486152  ...  0.407654 -0.020569 -0.253189\n",
              "2    2.134215 -0.595323 -0.546596  ...  0.477748  0.119776 -0.334841\n",
              "3   -3.207328 -0.840273 -0.535223  ...  0.065457  0.265401 -0.292328\n",
              "4    0.436561 -2.080756 -0.533011  ...  0.034590 -0.113765  0.150526\n",
              "..        ...       ...       ...  ...       ...       ...       ...\n",
              "390  3.261966  4.063761  0.930748  ... -0.266265 -0.075094 -0.091332\n",
              "391  0.382804  3.842508  3.002182  ...  0.259895 -0.239689 -0.027686\n",
              "392  5.957951  1.209704  3.406842  ... -0.424192 -0.005453 -0.068126\n",
              "393  1.925630  2.292021  2.787432  ...  0.123103 -0.423548  0.220632\n",
              "394  2.785014  1.130152  2.016413  ...  0.327626  0.632848  0.847079\n",
              "\n",
              "[395 rows x 42 columns]"
            ]
          },
          "metadata": {},
          "execution_count": 34
        }
      ]
    },
    {
      "cell_type": "code",
      "metadata": {
        "colab": {
          "base_uri": "https://localhost:8080/"
        },
        "id": "xTWK5_Weneen",
        "outputId": "5e55df38-ef78-4a65-e197-b275277b8cf0"
      },
      "source": [
        "pca.explained_variance_ratio_"
      ],
      "execution_count": 35,
      "outputs": [
        {
          "output_type": "execute_result",
          "data": {
            "text/plain": [
              "array([0.09777103, 0.06322298, 0.05570385, 0.05053266, 0.04298473,\n",
              "       0.04052156, 0.03850187, 0.03557148, 0.03440282, 0.03330945,\n",
              "       0.0316871 , 0.03012454, 0.02839306, 0.0267983 , 0.02583115,\n",
              "       0.02442318, 0.02387036, 0.02276883, 0.02231159, 0.02139721,\n",
              "       0.01995302, 0.01903113, 0.01809381, 0.01782657, 0.01685674,\n",
              "       0.01602041, 0.01536208, 0.0150761 , 0.01395535, 0.01277409,\n",
              "       0.01220768, 0.01169586, 0.01109915, 0.00985239, 0.00914699,\n",
              "       0.0076734 , 0.00743747, 0.00593721, 0.0036781 , 0.00267744,\n",
              "       0.00188084, 0.00163642])"
            ]
          },
          "metadata": {},
          "execution_count": 35
        }
      ]
    },
    {
      "cell_type": "code",
      "metadata": {
        "colab": {
          "base_uri": "https://localhost:8080/"
        },
        "id": "DPMMiyHAnmHm",
        "outputId": "7e21f277-b518-4943-d7f3-6a708ea24520"
      },
      "source": [
        "pca.components_[0]"
      ],
      "execution_count": 36,
      "outputs": [
        {
          "output_type": "execute_result",
          "data": {
            "text/plain": [
              "array([ 0.20028442, -0.29216839, -0.25979943,  0.15681502, -0.13589621,\n",
              "        0.28088584, -0.00809141,  0.04298861,  0.09430011,  0.1240115 ,\n",
              "        0.14226682,  0.04565119,  0.02692621, -0.34202126, -0.35695893,\n",
              "       -0.34540131,  0.13329656,  0.01580979, -0.12633195, -0.00696791,\n",
              "        0.03572333, -0.12115595,  0.15503401, -0.04756045, -0.15948596,\n",
              "       -0.10053458,  0.1119091 ,  0.00118272, -0.13402863,  0.01864949,\n",
              "        0.01191914, -0.10147926, -0.05670954,  0.1273878 ,  0.00122038,\n",
              "       -0.0943663 , -0.1268919 , -0.07941135, -0.1275729 , -0.18621161,\n",
              "       -0.11898877,  0.05634136])"
            ]
          },
          "metadata": {},
          "execution_count": 36
        }
      ]
    },
    {
      "cell_type": "code",
      "metadata": {
        "colab": {
          "base_uri": "https://localhost:8080/",
          "height": 855
        },
        "id": "ZL7MdSCanm-M",
        "outputId": "d5bc1b8e-09e1-433a-f2d3-4195ff4e8211"
      },
      "source": [
        "# What columns make up the components 1 & 2?\n",
        "(pd.DataFrame(pca.components_, columns=X.columns)\n",
        " .iloc[:2]\n",
        " .plot.bar()\n",
        " .legend(bbox_to_anchor=(1,1)))\n",
        "\n",
        "Pstatus_t"
      ],
      "execution_count": 37,
      "outputs": [
        {
          "output_type": "error",
          "ename": "NameError",
          "evalue": "ignored",
          "traceback": [
            "\u001b[0;31m---------------------------------------------------------------------------\u001b[0m",
            "\u001b[0;31mNameError\u001b[0m                                 Traceback (most recent call last)",
            "\u001b[0;32m<ipython-input-37-1a350be2a4f4>\u001b[0m in \u001b[0;36m<module>\u001b[0;34m()\u001b[0m\n\u001b[1;32m      5\u001b[0m  .legend(bbox_to_anchor=(1,1)))\n\u001b[1;32m      6\u001b[0m \u001b[0;34m\u001b[0m\u001b[0m\n\u001b[0;32m----> 7\u001b[0;31m \u001b[0mPstatus_t\u001b[0m\u001b[0;34m\u001b[0m\u001b[0;34m\u001b[0m\u001b[0m\n\u001b[0m",
            "\u001b[0;31mNameError\u001b[0m: name 'Pstatus_t' is not defined"
          ]
        },
        {
          "output_type": "display_data",
          "data": {
            "image/png": "[encoded data removed]",
            "text/plain": [
              "<Figure size 576x396 with 1 Axes>"
            ]
          },
          "metadata": {}
        }
      ]
    },
    {
      "cell_type": "code",
      "metadata": {
        "id": "wxooYIa8n5b7"
      },
      "source": [
        "# What columns make up the components 3 & 4?\n",
        "(pd.DataFrame(pca.components_, columns=X.columns)\n",
        " .iloc[2:4]\n",
        " .plot.bar()\n",
        " .legend(bbox_to_anchor=(1,1)))\n",
        "\n",
        "Dalc"
      ],
      "execution_count": null,
      "outputs": []
    },
    {
      "cell_type": "code",
      "metadata": {
        "id": "8SiixWwqn8-N"
      },
      "source": [
        "sns.scatterplot(x='PC1', y='PC2', \n",
        "                data=pca_X.assign(health=X.health), \n",
        "                hue='health')"
      ],
      "execution_count": null,
      "outputs": []
    },
    {
      "cell_type": "code",
      "metadata": {
        "id": "AyjIQvETn9Aq"
      },
      "source": [
        "sns.scatterplot(x='PC1', y='PC2', \n",
        "                data=pca_X.assign(age=X.age), \n",
        "                hue=)"
      ],
      "execution_count": null,
      "outputs": []
    },
    {
      "cell_type": "code",
      "metadata": {
        "id": "hAMIt4eKn9DS"
      },
      "source": [
        "\n",
        "# Plot with Seaborn\n",
        "sns.scatterplot(x='PC1', y='PC2', \n",
        "                data=pca_X.assign(Male=X.sex_M),\n",
        "                hue='Male')"
      ],
      "execution_count": null,
      "outputs": []
    },
    {
      "cell_type": "code",
      "metadata": {
        "id": "cwxRZHR_pTpq"
      },
      "source": [
        "sns.scatterplot(x='PC3', y='PC4', \n",
        "                data=pca_X.assign(Dalc=X.Dalc),\n",
        "                hue='Dalc')"
      ],
      "execution_count": null,
      "outputs": []
    },
    {
      "cell_type": "code",
      "metadata": {
        "id": "BvMkpD5dqtvG"
      },
      "source": [
        "sns.scatterplot(x='PC3', y='PC4', \n",
        "                data=pca_X.assign(Fedu=X.Fedu),\n",
        "                hue='Fedu')"
      ],
      "execution_count": null,
      "outputs": []
    },
    {
      "cell_type": "code",
      "metadata": {
        "id": "wSkoh8S8rCWO"
      },
      "source": [
        ""
      ],
      "execution_count": null,
      "outputs": []
    },
    {
      "cell_type": "code",
      "metadata": {
        "id": "bFBqJAbErOMV"
      },
      "source": [
        "inerts = []\n",
        "for i in range(2, 20):\n",
        "    k = cluster.KMeans(n_clusters=i, random_state=42)\n",
        "    k.fit(X_std)\n",
        "    inerts.append(k.inertia_)\n",
        "    \n",
        "pd.Series(inerts).plot()\n"
      ],
      "execution_count": null,
      "outputs": []
    },
    {
      "cell_type": "code",
      "metadata": {
        "id": "XcATJMImrSGD"
      },
      "source": [
        "start, end = 4, 10\n",
        "cols = 2\n",
        "rows = ((end - start) // cols)\n",
        "fix, axes = plt.subplots(rows, cols, figsize=(12,8))\n",
        "axes = axes.reshape(cols * rows)\n",
        "for i, k in enumerate(range(start, end), 0):\n",
        "    ax = axes[i]\n",
        "    sil = SilhouetteVisualizer(cluster.KMeans(n_clusters=k, random_state=42), ax=ax)\n",
        "    sil.fit(X_std)\n",
        "    sil.finalize()\n",
        "plt.tight_layout()"
      ],
      "execution_count": null,
      "outputs": []
    },
    {
      "cell_type": "code",
      "metadata": {
        "id": "JPHY8io8rcFo"
      },
      "source": [
        "fig, ax = plt.subplots(figsize=(10,8))\n",
        "hierarchy.dendrogram(hierarchy.linkage(X_std, method='ward'),\n",
        "                    truncate_mode='lastp', p=20, show_contracted=True)\n",
        "pass  # here to hide return value of above"
      ],
      "execution_count": null,
      "outputs": []
    },
    {
      "cell_type": "code",
      "metadata": {
        "id": "FUfXxoBEriFb"
      },
      "source": [
        "k5 = cluster.KMeans(n_clusters=5, random_state=42)\n",
        "k5.fit(X_std)\n",
        "labels = k5.predict(X_std)"
      ],
      "execution_count": null,
      "outputs": []
    },
    {
      "cell_type": "code",
      "metadata": {
        "id": "YyUoepCJrj7P"
      },
      "source": [
        "\n",
        "X.assign(label=labels).iloc[:5,-3:]"
      ],
      "execution_count": null,
      "outputs": []
    },
    {
      "cell_type": "code",
      "metadata": {
        "id": "ejI8iyhlrkja"
      },
      "source": [
        "(X.assign(label=labels)\n",
        "  .groupby('label')\n",
        "  .agg(['mean', 'var'])\n",
        "  .T\n",
        ")"
      ],
      "execution_count": null,
      "outputs": []
    },
    {
      "cell_type": "code",
      "metadata": {
        "id": "qLPIPscErnRe"
      },
      "source": [
        "# how many in each cluster?\n",
        "pd.Series(labels).value_counts().sort_index()"
      ],
      "execution_count": null,
      "outputs": []
    },
    {
      "cell_type": "code",
      "metadata": {
        "id": "Ib9rCXjWrrV1"
      },
      "source": [
        "# Add coloring to aid impact to clusters\n",
        "(X.assign(label=labels)\n",
        "  .groupby('label')\n",
        "  .mean()\n",
        "  .T\n",
        " .style.background_gradient(cmap='RdBu', axis=1)\n",
        ")"
      ],
      "execution_count": null,
      "outputs": []
    },
    {
      "cell_type": "code",
      "metadata": {
        "id": "YDBkReLGrtYP"
      },
      "source": [
        "# describe a column for each label\n",
        "(X.assign(label=labels)\n",
        "  .groupby('label')\n",
        "  .G3\n",
        "  .describe()\n",
        ")"
      ],
      "execution_count": null,
      "outputs": []
    },
    {
      "cell_type": "code",
      "metadata": {
        "id": "BqBzqk5CsQl2"
      },
      "source": [
        "cmap = sns.cubehelix_palette(dark=.3, light=.8, as_cmap=True)\n",
        "fig, ax = plt.subplots(figsize=(10,8))\n",
        "sns.scatterplot(x='PC1', y='PC2', \n",
        "                data=pca_X.assign(label=labels),\n",
        "                cmap='Pastel',\n",
        "                hue='label', ax=ax)"
      ],
      "execution_count": null,
      "outputs": []
    },
    {
      "cell_type": "code",
      "metadata": {
        "id": "usMb47IGsRJi"
      },
      "source": [
        "from bokeh.io import output_notebook\n",
        "from bokeh import models, palettes, transform\n",
        "from bokeh.plotting import figure, show\n",
        "\n",
        "def bokeh_scatter(\n",
        "    x,\n",
        "    y,\n",
        "    data,\n",
        "    hue=None,\n",
        "    label_cols=None,\n",
        "    size=None,\n",
        "    legend=None,\n",
        "    alpha=0.5,\n",
        "):\n",
        "    \"\"\"\n",
        "    x - x column name to plot\n",
        "    y - y column name to plot\n",
        "    data - pandas dataframe\n",
        "    hue - column name to color by (numeric)\n",
        "    legend - column name to label by\n",
        "    label_cols - columns to use in tooltip (None all in dataframe)\n",
        "    size - size of points in screen space unigs\n",
        "    alpha - transparency\n",
        "    \"\"\"\n",
        "    output_notebook()\n",
        "    circle_kwargs = {}\n",
        "    if legend:\n",
        "        circle_kwargs[\"legend\"] = legend\n",
        "    if size:\n",
        "        circle_kwargs[\"size\"] = size\n",
        "    if hue:\n",
        "        color_seq = data[hue]\n",
        "        mapper = models.LinearColorMapper(\n",
        "            palette=palettes.viridis(256),\n",
        "            low=min(color_seq),\n",
        "            high=max(color_seq),\n",
        "        )\n",
        "        circle_kwargs[\n",
        "            \"fill_color\"\n",
        "        ] = transform.transform(hue, mapper)\n",
        "    ds = models.ColumnDataSource(data)\n",
        "    if label_cols is None:\n",
        "        label_cols = data.columns\n",
        "    tool_tips = sorted(\n",
        "        [\n",
        "            (x, \"@{}\".format(x))\n",
        "            for x in label_cols\n",
        "        ],\n",
        "        key=lambda tup: tup[0],\n",
        "    )\n",
        "    hover = models.HoverTool(\n",
        "        tooltips=tool_tips\n",
        "    )\n",
        "    fig = figure(\n",
        "        tools=[\n",
        "            hover,\n",
        "            \"pan\",\n",
        "            \"zoom_in\",\n",
        "            \"zoom_out\",\n",
        "            \"reset\",\n",
        "        ],\n",
        "        toolbar_location=\"below\",\n",
        "    )\n",
        "\n",
        "    fig.circle(\n",
        "        x,\n",
        "        y,\n",
        "        source=ds,\n",
        "        alpha=alpha,\n",
        "        **circle_kwargs\n",
        "    )\n",
        "    show(fig)\n",
        "    return fig\n",
        "\n",
        "res = bokeh_scatter(\"PC1\",\"PC2\", \n",
        "                    data=pd.concat([pca_X, X], axis=1).assign(label=labels), hue='label', size=10,\n",
        "                    label_cols=list(X.columns)+['label'],\n",
        "                   legend='label')"
      ],
      "execution_count": null,
      "outputs": []
    },
    {
      "cell_type": "code",
      "metadata": {
        "id": "tfFZA_5usgIE"
      },
      "source": [
        "dt = tree.DecisionTreeClassifier()\n",
        "dt.fit(X, labels)"
      ],
      "execution_count": null,
      "outputs": []
    },
    {
      "cell_type": "code",
      "metadata": {
        "id": "wzoaP52xsiZA"
      },
      "source": [
        "for col, val in sorted(\n",
        "    zip(X.columns, dt.feature_importances_),\n",
        "    key=lambda col_val: col_val[1],\n",
        "    reverse=True):\n",
        "    print(f'{col:20}{val:10.3f}')"
      ],
      "execution_count": null,
      "outputs": []
    },
    {
      "cell_type": "code",
      "metadata": {
        "id": "xdn6izwKskyB"
      },
      "source": [
        "print(tree.export_text(dt, feature_names=list(X.columns)))"
      ],
      "execution_count": null,
      "outputs": []
    },
    {
      "cell_type": "code",
      "metadata": {
        "id": "Cx4VKBkssxMT"
      },
      "source": [
        ""
      ],
      "execution_count": null,
      "outputs": []
    }
  ]
}